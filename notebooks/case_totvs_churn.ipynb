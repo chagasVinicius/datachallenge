{
 "cells": [
  {
   "cell_type": "markdown",
   "id": "27ac27e9",
   "metadata": {},
   "source": [
    "## Case Totvs"
   ]
  },
  {
   "cell_type": "markdown",
   "id": "15ed802d",
   "metadata": {},
   "source": [
    "##### Introduction\n",
    "The churn prediction is a classification problem once the response variable `is_churn` is binary. The value of `is_churn`=1 means that the customer does not purchase more from the company and `is_churn`=0 corresponds to a customer that is still a client.\n",
    "\n",
    "##### Main goal\n",
    "Customer churn analysis and model to predict if a customer could be inclined to not purchase more from the company.\n",
    "##### Specific objectives\n",
    "- Explore the two datasets, `orders.json` and `is_churn.json`, and extract information from the possible features (EDA)\n",
    "- Develop two supervisioned machine learning models, Logistic Regression and XGBoost, wich fits with the classification problem."
   ]
  },
  {
   "cell_type": "markdown",
   "id": "939d4746",
   "metadata": {},
   "source": [
    "### EDA"
   ]
  },
  {
   "cell_type": "code",
   "execution_count": 1,
   "id": "2d5594c2",
   "metadata": {},
   "outputs": [],
   "source": [
    "import pandas as pd\n",
    "import numpy as np"
   ]
  },
  {
   "cell_type": "code",
   "execution_count": 2,
   "id": "cd183f1c",
   "metadata": {},
   "outputs": [],
   "source": [
    "orders_df = pd.read_json(\"./data/orders.json\")\n",
    "is_churn_df = pd.read_json(\"./data/is_churn.json\")"
   ]
  },
  {
   "cell_type": "code",
   "execution_count": 3,
   "id": "98f91dc0",
   "metadata": {},
   "outputs": [
    {
     "name": "stdout",
     "output_type": "stream",
     "text": [
      "<class 'pandas.core.frame.DataFrame'>\n",
      "RangeIndex: 204428 entries, 0 to 204427\n",
      "Data columns (total 13 columns):\n",
      " #   Column            Non-Null Count   Dtype  \n",
      "---  ------            --------------   -----  \n",
      " 0   customer_code     204428 non-null  int64  \n",
      " 1   branch_id         204428 non-null  int64  \n",
      " 2   sales_channel     204428 non-null  int64  \n",
      " 3   seller_code       204428 non-null  int64  \n",
      " 4   register_date     204428 non-null  object \n",
      " 5   total_price       204428 non-null  float64\n",
      " 6   order_id          204428 non-null  int64  \n",
      " 7   quantity          204428 non-null  int64  \n",
      " 8   item_code         204428 non-null  int64  \n",
      " 9   item_total_price  204428 non-null  float64\n",
      " 10  unit_price        204428 non-null  float64\n",
      " 11  group_code        204428 non-null  int64  \n",
      " 12  segment_code      204428 non-null  int64  \n",
      "dtypes: float64(3), int64(9), object(1)\n",
      "memory usage: 20.3+ MB\n",
      "<class 'pandas.core.frame.DataFrame'>\n",
      "RangeIndex: 818 entries, 0 to 817\n",
      "Data columns (total 3 columns):\n",
      " #   Column              Non-Null Count  Dtype \n",
      "---  ------              --------------  ----- \n",
      " 0   customer_code       818 non-null    int64 \n",
      " 1   last_purchase_date  818 non-null    object\n",
      " 2   is_churn            818 non-null    int64 \n",
      "dtypes: int64(2), object(1)\n",
      "memory usage: 19.3+ KB\n"
     ]
    }
   ],
   "source": [
    "orders_df.info()\n",
    "is_churn_df.info()"
   ]
  },
  {
   "cell_type": "markdown",
   "id": "13651a01",
   "metadata": {},
   "source": [
    "- First we transform the `date` object columns to a `datetime` type, it makes easily to apply operations for the column."
   ]
  },
  {
   "cell_type": "code",
   "execution_count": 4,
   "id": "b51a9ac6",
   "metadata": {},
   "outputs": [],
   "source": [
    "orders_df[['register_date']] = orders_df[['register_date']].apply(lambda x: pd.to_datetime(x), axis=0)\n",
    "orders_df['order_yearmonth'] = orders_df['register_date'].map(lambda date: date.year*100 + date.month)\n",
    "orders_df[\"primary_key\"] = orders_df['order_id'].astype(str) + orders_df['item_code'].astype(str)\n",
    "is_churn_df[['last_purchase_date']] = is_churn_df[['last_purchase_date']].apply(lambda x: pd.to_datetime(x), axis=0)"
   ]
  },
  {
   "cell_type": "markdown",
   "id": "4a5d439f",
   "metadata": {},
   "source": [
    "### Customers\n",
    "The `orders` dataset is the source with more information, however this information is mixed between informations about the customer, informations about the customer orders and the sales/seller. In order to extract information with more clearity, I will separate the analysis in three groups:\n",
    "- Customers\n",
    "- Orders x Customers\n",
    "- Sales x Customers\n",
    "In all groups the focus is to find possible information that could explain our response variable `is_churn`."
   ]
  },
  {
   "cell_type": "code",
   "execution_count": 5,
   "id": "54400664",
   "metadata": {},
   "outputs": [
    {
     "data": {
      "text/html": [
       "<div>\n",
       "<style scoped>\n",
       "    .dataframe tbody tr th:only-of-type {\n",
       "        vertical-align: middle;\n",
       "    }\n",
       "\n",
       "    .dataframe tbody tr th {\n",
       "        vertical-align: top;\n",
       "    }\n",
       "\n",
       "    .dataframe thead th {\n",
       "        text-align: right;\n",
       "    }\n",
       "</style>\n",
       "<table border=\"1\" class=\"dataframe\">\n",
       "  <thead>\n",
       "    <tr style=\"text-align: right;\">\n",
       "      <th></th>\n",
       "      <th>customer_code</th>\n",
       "      <th>group_code</th>\n",
       "      <th>segment_code</th>\n",
       "      <th>register_date</th>\n",
       "    </tr>\n",
       "  </thead>\n",
       "  <tbody>\n",
       "    <tr>\n",
       "      <th>0</th>\n",
       "      <td>0</td>\n",
       "      <td>0</td>\n",
       "      <td>0</td>\n",
       "      <td>2018-06-08 00:00:00+00:00</td>\n",
       "    </tr>\n",
       "    <tr>\n",
       "      <th>1</th>\n",
       "      <td>1</td>\n",
       "      <td>0</td>\n",
       "      <td>0</td>\n",
       "      <td>2018-03-12 00:00:00+00:00</td>\n",
       "    </tr>\n",
       "    <tr>\n",
       "      <th>2</th>\n",
       "      <td>2</td>\n",
       "      <td>0</td>\n",
       "      <td>0</td>\n",
       "      <td>2018-06-28 00:00:00+00:00</td>\n",
       "    </tr>\n",
       "    <tr>\n",
       "      <th>3</th>\n",
       "      <td>3</td>\n",
       "      <td>0</td>\n",
       "      <td>0</td>\n",
       "      <td>2018-05-08 00:00:00+00:00</td>\n",
       "    </tr>\n",
       "    <tr>\n",
       "      <th>4</th>\n",
       "      <td>4</td>\n",
       "      <td>0</td>\n",
       "      <td>0</td>\n",
       "      <td>2018-01-18 00:00:00+00:00</td>\n",
       "    </tr>\n",
       "  </tbody>\n",
       "</table>\n",
       "</div>"
      ],
      "text/plain": [
       "   customer_code  group_code  segment_code             register_date\n",
       "0              0           0             0 2018-06-08 00:00:00+00:00\n",
       "1              1           0             0 2018-03-12 00:00:00+00:00\n",
       "2              2           0             0 2018-06-28 00:00:00+00:00\n",
       "3              3           0             0 2018-05-08 00:00:00+00:00\n",
       "4              4           0             0 2018-01-18 00:00:00+00:00"
      ]
     },
     "execution_count": 5,
     "metadata": {},
     "output_type": "execute_result"
    }
   ],
   "source": [
    "## Separate customer infos from orders info\n",
    "customer_infos = orders_df.sort_values(by='register_date', ascending=False).groupby(['customer_code', 'group_code', 'segment_code'])\\\n",
    ".first().reset_index()[['customer_code', 'group_code', 'segment_code', 'register_date']]\n",
    "customer_infos.rename(columns={'register_date':'last_order_date'})\n",
    "customer_infos.head()"
   ]
  },
  {
   "cell_type": "code",
   "execution_count": 6,
   "id": "5cb7a95c",
   "metadata": {},
   "outputs": [
    {
     "name": "stdout",
     "output_type": "stream",
     "text": [
      "<class 'pandas.core.frame.DataFrame'>\n",
      "RangeIndex: 818 entries, 0 to 817\n",
      "Data columns (total 6 columns):\n",
      " #   Column              Non-Null Count  Dtype              \n",
      "---  ------              --------------  -----              \n",
      " 0   customer_code       818 non-null    int64              \n",
      " 1   last_purchase_date  818 non-null    datetime64[ns, UTC]\n",
      " 2   is_churn            818 non-null    int64              \n",
      " 3   group_code          818 non-null    int64              \n",
      " 4   segment_code        818 non-null    int64              \n",
      " 5   register_date       818 non-null    datetime64[ns, UTC]\n",
      "dtypes: datetime64[ns, UTC](2), int64(4)\n",
      "memory usage: 38.5 KB\n"
     ]
    }
   ],
   "source": [
    "all_data = is_churn_df.merge(customer_infos, how='left', on = 'customer_code')\n",
    "all_data.info()"
   ]
  },
  {
   "cell_type": "code",
   "execution_count": 7,
   "id": "ebd4d330",
   "metadata": {},
   "outputs": [
    {
     "data": {
      "text/html": [
       "<div>\n",
       "<style scoped>\n",
       "    .dataframe tbody tr th:only-of-type {\n",
       "        vertical-align: middle;\n",
       "    }\n",
       "\n",
       "    .dataframe tbody tr th {\n",
       "        vertical-align: top;\n",
       "    }\n",
       "\n",
       "    .dataframe thead th {\n",
       "        text-align: right;\n",
       "    }\n",
       "</style>\n",
       "<table border=\"1\" class=\"dataframe\">\n",
       "  <thead>\n",
       "    <tr style=\"text-align: right;\">\n",
       "      <th></th>\n",
       "      <th>customer_code</th>\n",
       "      <th>last_purchase_date</th>\n",
       "      <th>is_churn</th>\n",
       "      <th>group_code</th>\n",
       "      <th>segment_code</th>\n",
       "      <th>register_date</th>\n",
       "    </tr>\n",
       "  </thead>\n",
       "  <tbody>\n",
       "    <tr>\n",
       "      <th>0</th>\n",
       "      <td>31</td>\n",
       "      <td>2018-05-23 00:00:00+00:00</td>\n",
       "      <td>0</td>\n",
       "      <td>0</td>\n",
       "      <td>0</td>\n",
       "      <td>2018-05-23 00:00:00+00:00</td>\n",
       "    </tr>\n",
       "    <tr>\n",
       "      <th>1</th>\n",
       "      <td>560</td>\n",
       "      <td>2018-02-21 00:00:00+00:00</td>\n",
       "      <td>0</td>\n",
       "      <td>0</td>\n",
       "      <td>0</td>\n",
       "      <td>2018-02-21 00:00:00+00:00</td>\n",
       "    </tr>\n",
       "    <tr>\n",
       "      <th>2</th>\n",
       "      <td>697</td>\n",
       "      <td>2018-06-12 00:00:00+00:00</td>\n",
       "      <td>0</td>\n",
       "      <td>0</td>\n",
       "      <td>0</td>\n",
       "      <td>2018-06-12 00:00:00+00:00</td>\n",
       "    </tr>\n",
       "    <tr>\n",
       "      <th>3</th>\n",
       "      <td>438</td>\n",
       "      <td>2018-02-26 00:00:00+00:00</td>\n",
       "      <td>0</td>\n",
       "      <td>0</td>\n",
       "      <td>0</td>\n",
       "      <td>2018-02-26 00:00:00+00:00</td>\n",
       "    </tr>\n",
       "    <tr>\n",
       "      <th>4</th>\n",
       "      <td>234</td>\n",
       "      <td>2018-02-08 00:00:00+00:00</td>\n",
       "      <td>1</td>\n",
       "      <td>0</td>\n",
       "      <td>0</td>\n",
       "      <td>2018-02-08 00:00:00+00:00</td>\n",
       "    </tr>\n",
       "  </tbody>\n",
       "</table>\n",
       "</div>"
      ],
      "text/plain": [
       "   customer_code        last_purchase_date  is_churn  group_code   \n",
       "0             31 2018-05-23 00:00:00+00:00         0           0  \\\n",
       "1            560 2018-02-21 00:00:00+00:00         0           0   \n",
       "2            697 2018-06-12 00:00:00+00:00         0           0   \n",
       "3            438 2018-02-26 00:00:00+00:00         0           0   \n",
       "4            234 2018-02-08 00:00:00+00:00         1           0   \n",
       "\n",
       "   segment_code             register_date  \n",
       "0             0 2018-05-23 00:00:00+00:00  \n",
       "1             0 2018-02-21 00:00:00+00:00  \n",
       "2             0 2018-06-12 00:00:00+00:00  \n",
       "3             0 2018-02-26 00:00:00+00:00  \n",
       "4             0 2018-02-08 00:00:00+00:00  "
      ]
     },
     "execution_count": 7,
     "metadata": {},
     "output_type": "execute_result"
    }
   ],
   "source": [
    "all_data.head()"
   ]
  },
  {
   "cell_type": "code",
   "execution_count": 8,
   "id": "6f564444",
   "metadata": {},
   "outputs": [
    {
     "data": {
      "text/plain": [
       "customer_code         0\n",
       "last_purchase_date    0\n",
       "is_churn              0\n",
       "group_code            0\n",
       "segment_code          0\n",
       "register_date         0\n",
       "dtype: int64"
      ]
     },
     "execution_count": 8,
     "metadata": {},
     "output_type": "execute_result"
    }
   ],
   "source": [
    "all_data.isnull().sum()"
   ]
  },
  {
   "cell_type": "code",
   "execution_count": 9,
   "id": "ebcc94a2",
   "metadata": {},
   "outputs": [
    {
     "data": {
      "text/plain": [
       "(818, 6)"
      ]
     },
     "execution_count": 9,
     "metadata": {},
     "output_type": "execute_result"
    }
   ],
   "source": [
    "all_data.shape"
   ]
  },
  {
   "cell_type": "code",
   "execution_count": 10,
   "id": "df56a317",
   "metadata": {},
   "outputs": [
    {
     "data": {
      "text/plain": [
       "Timedelta('0 days 00:00:00')"
      ]
     },
     "execution_count": 10,
     "metadata": {},
     "output_type": "execute_result"
    }
   ],
   "source": [
    "## Check last order is the same of last purchase date\n",
    "all_data.sort_values(by='register_date', ascending=False).groupby(['customer_code']).first()\\\n",
    ".reset_index()[['register_date','last_purchase_date']]\\\n",
    ".apply(lambda x: x['last_purchase_date'] - x['register_date'], axis=1)\\\n",
    ".sum()"
   ]
  },
  {
   "cell_type": "code",
   "execution_count": 11,
   "id": "58d47ea4",
   "metadata": {},
   "outputs": [],
   "source": [
    "import seaborn as sns\n",
    "%matplotlib inline\n",
    "\n",
    "sns.set_style(\"white\")\n",
    "sns.set_palette('crest')"
   ]
  },
  {
   "cell_type": "code",
   "execution_count": 12,
   "id": "74a4afba",
   "metadata": {},
   "outputs": [
    {
     "data": {
      "text/plain": [
       "is_churn\n",
       "0    737\n",
       "1     81\n",
       "Name: count, dtype: int64"
      ]
     },
     "execution_count": 12,
     "metadata": {},
     "output_type": "execute_result"
    },
    {
     "data": {
      "image/png": "[encoded data removed]",
      "text/plain": [
       "<Figure size 500x500 with 1 Axes>"
      ]
     },
     "metadata": {},
     "output_type": "display_data"
    }
   ],
   "source": [
    "## `is_churn` variable in the dataset:\n",
    "graf_churn = sns.catplot(x = 'is_churn', kind = 'count', data = all_data);\n",
    "graf_churn.set(ylabel = 'Frequency');\n",
    "all_data.is_churn.value_counts()\n",
    "## Less then 10% of or data is positive for the `is_churn` variable, this can create \n",
    "## a problem to the model train and test splits."
   ]
  },
  {
   "cell_type": "code",
   "execution_count": 13,
   "id": "fd9d5ec1",
   "metadata": {},
   "outputs": [
    {
     "data": {
      "image/png": "[encoded data removed]",
      "text/plain": [
       "<Figure size 500x500 with 1 Axes>"
      ]
     },
     "metadata": {},
     "output_type": "display_data"
    }
   ],
   "source": [
    "## Customer group\n",
    "graf_churn = sns.catplot(x = 'group_code', kind = 'count', data = all_data);\n",
    "graf_churn.set(ylabel = 'Frequency');"
   ]
  },
  {
   "cell_type": "code",
   "execution_count": 14,
   "id": "d2e0d789",
   "metadata": {},
   "outputs": [
    {
     "data": {
      "image/png": "[encoded data removed]",
      "text/plain": [
       "<Figure size 1000x500 with 2 Axes>"
      ]
     },
     "metadata": {},
     "output_type": "display_data"
    }
   ],
   "source": [
    "## The group_code 0 correspont to the majority of the customers and also the majority of the `is_churn`\n",
    "graf_gen = sns.catplot(x = 'group_code', col = 'is_churn', kind = 'count', data = all_data);\n",
    "graf_gen.set(ylabel = 'Frequência');"
   ]
  },
  {
   "cell_type": "code",
   "execution_count": 15,
   "id": "7a0ac902",
   "metadata": {},
   "outputs": [
    {
     "data": {
      "image/png": "[encoded data removed]",
      "text/plain": [
       "<Figure size 500x500 with 1 Axes>"
      ]
     },
     "metadata": {},
     "output_type": "display_data"
    }
   ],
   "source": [
    "### Customer segment\n",
    "graf_churn = sns.catplot(x = 'segment_code', kind = 'count', data = all_data);\n",
    "graf_churn.set(ylabel = 'Frequência');"
   ]
  },
  {
   "cell_type": "code",
   "execution_count": 16,
   "id": "36e044df",
   "metadata": {},
   "outputs": [
    {
     "data": {
      "image/png": "[encoded data removed]",
      "text/plain": [
       "<Figure size 1000x500 with 2 Axes>"
      ]
     },
     "metadata": {},
     "output_type": "display_data"
    }
   ],
   "source": [
    "## The same occurs to the `segment_code` variable. The majority of customers are in the segment_code = 0\n",
    "## and with mostly of the response variable.\n",
    "graf_gen = sns.catplot(x = 'segment_code', col = 'is_churn', kind = 'count', data = all_data);\n",
    "graf_gen.set(ylabel = 'Frequência');"
   ]
  },
  {
   "cell_type": "markdown",
   "id": "68dfb5e7",
   "metadata": {},
   "source": [
    "### orders x customers\n",
    "\n",
    "The `group_code` and `segment_code` bring low information about the customers churn once that the large amount of customers belongs to the same group and segments. \n",
    "The second step is extract information from the customer orders and generate insights with these values."
   ]
  },
  {
   "cell_type": "code",
   "execution_count": 19,
   "id": "df67a96b",
   "metadata": {},
   "outputs": [
    {
     "name": "stderr",
     "output_type": "stream",
     "text": [
      "/tmp/ipykernel_509935/601951172.py:5: SettingWithCopyWarning: \n",
      "A value is trying to be set on a copy of a slice from a DataFrame.\n",
      "Try using .loc[row_indexer,col_indexer] = value instead\n",
      "\n",
      "See the caveats in the documentation: https://pandas.pydata.org/pandas-docs/stable/user_guide/indexing.html#returning-a-view-versus-a-copy\n",
      "  date_past_6_12months.loc[:,'6months_past_date'] = customer_infos['register_date'].map(lambda x: x-relativedelta(months=6))\n"
     ]
    }
   ],
   "source": [
    "### customer orders 6 and 12 months before churn\n",
    "from dateutil.relativedelta import relativedelta\n",
    "\n",
    "date_past_6_12months = customer_infos[['customer_code', 'register_date']]\n",
    "date_past_6_12months.loc[:,'6months_past_date'] = customer_infos['register_date'].map(lambda x: x-relativedelta(months=6))\n",
    "date_past_6_12months.loc[:,'12months_past_date'] = date_past_6_12months['6months_past_date'].map(lambda x: x-relativedelta(months=12))\n"
   ]
  },
  {
   "cell_type": "code",
   "execution_count": 20,
   "id": "8ea2fa0b",
   "metadata": {},
   "outputs": [
    {
     "data": {
      "text/html": [
       "<div>\n",
       "<style scoped>\n",
       "    .dataframe tbody tr th:only-of-type {\n",
       "        vertical-align: middle;\n",
       "    }\n",
       "\n",
       "    .dataframe tbody tr th {\n",
       "        vertical-align: top;\n",
       "    }\n",
       "\n",
       "    .dataframe thead th {\n",
       "        text-align: right;\n",
       "    }\n",
       "</style>\n",
       "<table border=\"1\" class=\"dataframe\">\n",
       "  <thead>\n",
       "    <tr style=\"text-align: right;\">\n",
       "      <th></th>\n",
       "      <th>customer_code</th>\n",
       "      <th>register_date</th>\n",
       "      <th>6months_past_date</th>\n",
       "      <th>12months_past_date</th>\n",
       "    </tr>\n",
       "  </thead>\n",
       "  <tbody>\n",
       "    <tr>\n",
       "      <th>0</th>\n",
       "      <td>0</td>\n",
       "      <td>2018-06-08 00:00:00+00:00</td>\n",
       "      <td>2017-12-08 00:00:00+00:00</td>\n",
       "      <td>2016-12-08 00:00:00+00:00</td>\n",
       "    </tr>\n",
       "    <tr>\n",
       "      <th>1</th>\n",
       "      <td>1</td>\n",
       "      <td>2018-03-12 00:00:00+00:00</td>\n",
       "      <td>2017-09-12 00:00:00+00:00</td>\n",
       "      <td>2016-09-12 00:00:00+00:00</td>\n",
       "    </tr>\n",
       "    <tr>\n",
       "      <th>2</th>\n",
       "      <td>2</td>\n",
       "      <td>2018-06-28 00:00:00+00:00</td>\n",
       "      <td>2017-12-28 00:00:00+00:00</td>\n",
       "      <td>2016-12-28 00:00:00+00:00</td>\n",
       "    </tr>\n",
       "    <tr>\n",
       "      <th>3</th>\n",
       "      <td>3</td>\n",
       "      <td>2018-05-08 00:00:00+00:00</td>\n",
       "      <td>2017-11-08 00:00:00+00:00</td>\n",
       "      <td>2016-11-08 00:00:00+00:00</td>\n",
       "    </tr>\n",
       "    <tr>\n",
       "      <th>4</th>\n",
       "      <td>4</td>\n",
       "      <td>2018-01-18 00:00:00+00:00</td>\n",
       "      <td>2017-07-18 00:00:00+00:00</td>\n",
       "      <td>2016-07-18 00:00:00+00:00</td>\n",
       "    </tr>\n",
       "  </tbody>\n",
       "</table>\n",
       "</div>"
      ],
      "text/plain": [
       "   customer_code             register_date         6months_past_date   \n",
       "0              0 2018-06-08 00:00:00+00:00 2017-12-08 00:00:00+00:00  \\\n",
       "1              1 2018-03-12 00:00:00+00:00 2017-09-12 00:00:00+00:00   \n",
       "2              2 2018-06-28 00:00:00+00:00 2017-12-28 00:00:00+00:00   \n",
       "3              3 2018-05-08 00:00:00+00:00 2017-11-08 00:00:00+00:00   \n",
       "4              4 2018-01-18 00:00:00+00:00 2017-07-18 00:00:00+00:00   \n",
       "\n",
       "         12months_past_date  \n",
       "0 2016-12-08 00:00:00+00:00  \n",
       "1 2016-09-12 00:00:00+00:00  \n",
       "2 2016-12-28 00:00:00+00:00  \n",
       "3 2016-11-08 00:00:00+00:00  \n",
       "4 2016-07-18 00:00:00+00:00  "
      ]
     },
     "execution_count": 20,
     "metadata": {},
     "output_type": "execute_result"
    }
   ],
   "source": [
    "date_past_6_12months.head()"
   ]
  },
  {
   "cell_type": "code",
   "execution_count": 21,
   "id": "f8d4e0ae",
   "metadata": {},
   "outputs": [
    {
     "data": {
      "text/html": [
       "<div>\n",
       "<style scoped>\n",
       "    .dataframe tbody tr th:only-of-type {\n",
       "        vertical-align: middle;\n",
       "    }\n",
       "\n",
       "    .dataframe tbody tr th {\n",
       "        vertical-align: top;\n",
       "    }\n",
       "\n",
       "    .dataframe thead th {\n",
       "        text-align: right;\n",
       "    }\n",
       "</style>\n",
       "<table border=\"1\" class=\"dataframe\">\n",
       "  <thead>\n",
       "    <tr style=\"text-align: right;\">\n",
       "      <th></th>\n",
       "      <th>order_yearmonth</th>\n",
       "      <th>customer_code</th>\n",
       "      <th>total_revenue</th>\n",
       "    </tr>\n",
       "  </thead>\n",
       "  <tbody>\n",
       "    <tr>\n",
       "      <th>0</th>\n",
       "      <td>200801</td>\n",
       "      <td>2</td>\n",
       "      <td>2726.16</td>\n",
       "    </tr>\n",
       "    <tr>\n",
       "      <th>1</th>\n",
       "      <td>200801</td>\n",
       "      <td>5</td>\n",
       "      <td>2203.49</td>\n",
       "    </tr>\n",
       "    <tr>\n",
       "      <th>2</th>\n",
       "      <td>200801</td>\n",
       "      <td>6</td>\n",
       "      <td>1833.06</td>\n",
       "    </tr>\n",
       "    <tr>\n",
       "      <th>3</th>\n",
       "      <td>200801</td>\n",
       "      <td>8</td>\n",
       "      <td>17078.75</td>\n",
       "    </tr>\n",
       "    <tr>\n",
       "      <th>4</th>\n",
       "      <td>200801</td>\n",
       "      <td>29</td>\n",
       "      <td>788.43</td>\n",
       "    </tr>\n",
       "  </tbody>\n",
       "</table>\n",
       "</div>"
      ],
      "text/plain": [
       "   order_yearmonth  customer_code  total_revenue\n",
       "0           200801              2        2726.16\n",
       "1           200801              5        2203.49\n",
       "2           200801              6        1833.06\n",
       "3           200801              8       17078.75\n",
       "4           200801             29         788.43"
      ]
     },
     "execution_count": 21,
     "metadata": {},
     "output_type": "execute_result"
    }
   ],
   "source": [
    "customer_revenues_past = orders_df.groupby(['order_yearmonth', 'customer_code'])['item_total_price'].sum().reset_index()\\\n",
    ".rename(columns={'item_total_price' : 'total_revenue'})\n",
    "customer_revenues_past.head(5)"
   ]
  },
  {
   "cell_type": "code",
   "execution_count": 22,
   "id": "c4d3a6f9",
   "metadata": {},
   "outputs": [
    {
     "data": {
      "text/html": [
       "<div>\n",
       "<style scoped>\n",
       "    .dataframe tbody tr th:only-of-type {\n",
       "        vertical-align: middle;\n",
       "    }\n",
       "\n",
       "    .dataframe tbody tr th {\n",
       "        vertical-align: top;\n",
       "    }\n",
       "\n",
       "    .dataframe thead th {\n",
       "        text-align: right;\n",
       "    }\n",
       "</style>\n",
       "<table border=\"1\" class=\"dataframe\">\n",
       "  <thead>\n",
       "    <tr style=\"text-align: right;\">\n",
       "      <th></th>\n",
       "      <th>order_yearmonth</th>\n",
       "      <th>customer_code</th>\n",
       "      <th>total_orders</th>\n",
       "    </tr>\n",
       "  </thead>\n",
       "  <tbody>\n",
       "    <tr>\n",
       "      <th>0</th>\n",
       "      <td>200801</td>\n",
       "      <td>2</td>\n",
       "      <td>8</td>\n",
       "    </tr>\n",
       "    <tr>\n",
       "      <th>1</th>\n",
       "      <td>200801</td>\n",
       "      <td>5</td>\n",
       "      <td>15</td>\n",
       "    </tr>\n",
       "    <tr>\n",
       "      <th>2</th>\n",
       "      <td>200801</td>\n",
       "      <td>6</td>\n",
       "      <td>9</td>\n",
       "    </tr>\n",
       "    <tr>\n",
       "      <th>3</th>\n",
       "      <td>200801</td>\n",
       "      <td>8</td>\n",
       "      <td>116</td>\n",
       "    </tr>\n",
       "    <tr>\n",
       "      <th>4</th>\n",
       "      <td>200801</td>\n",
       "      <td>29</td>\n",
       "      <td>7</td>\n",
       "    </tr>\n",
       "  </tbody>\n",
       "</table>\n",
       "</div>"
      ],
      "text/plain": [
       "   order_yearmonth  customer_code  total_orders\n",
       "0           200801              2             8\n",
       "1           200801              5            15\n",
       "2           200801              6             9\n",
       "3           200801              8           116\n",
       "4           200801             29             7"
      ]
     },
     "execution_count": 22,
     "metadata": {},
     "output_type": "execute_result"
    }
   ],
   "source": [
    "customer_orders_past = orders_df.groupby(['order_yearmonth', 'customer_code'])['order_id'].count()\\\n",
    ".reset_index().rename(columns={'order_id' : 'total_orders'})\n",
    "customer_orders_past.head()"
   ]
  },
  {
   "cell_type": "code",
   "execution_count": 25,
   "id": "00d430bd",
   "metadata": {},
   "outputs": [
    {
     "data": {
      "text/html": [
       "<div>\n",
       "<style scoped>\n",
       "    .dataframe tbody tr th:only-of-type {\n",
       "        vertical-align: middle;\n",
       "    }\n",
       "\n",
       "    .dataframe tbody tr th {\n",
       "        vertical-align: top;\n",
       "    }\n",
       "\n",
       "    .dataframe thead th {\n",
       "        text-align: right;\n",
       "    }\n",
       "</style>\n",
       "<table border=\"1\" class=\"dataframe\">\n",
       "  <thead>\n",
       "    <tr style=\"text-align: right;\">\n",
       "      <th></th>\n",
       "      <th>customer_code</th>\n",
       "      <th>total_orders_6m</th>\n",
       "      <th>total_orders_12m</th>\n",
       "      <th>total_revenue_6m</th>\n",
       "      <th>total_revenue_12m</th>\n",
       "    </tr>\n",
       "  </thead>\n",
       "  <tbody>\n",
       "    <tr>\n",
       "      <th>0</th>\n",
       "      <td>0</td>\n",
       "      <td>25</td>\n",
       "      <td>26</td>\n",
       "      <td>8481.39</td>\n",
       "      <td>17665.65</td>\n",
       "    </tr>\n",
       "    <tr>\n",
       "      <th>1</th>\n",
       "      <td>1</td>\n",
       "      <td>21</td>\n",
       "      <td>31</td>\n",
       "      <td>4689.84</td>\n",
       "      <td>6780.03</td>\n",
       "    </tr>\n",
       "    <tr>\n",
       "      <th>2</th>\n",
       "      <td>2</td>\n",
       "      <td>24</td>\n",
       "      <td>43</td>\n",
       "      <td>5977.61</td>\n",
       "      <td>11719.95</td>\n",
       "    </tr>\n",
       "    <tr>\n",
       "      <th>3</th>\n",
       "      <td>3</td>\n",
       "      <td>13</td>\n",
       "      <td>44</td>\n",
       "      <td>16478.82</td>\n",
       "      <td>23332.12</td>\n",
       "    </tr>\n",
       "    <tr>\n",
       "      <th>4</th>\n",
       "      <td>4</td>\n",
       "      <td>10</td>\n",
       "      <td>12</td>\n",
       "      <td>2548.56</td>\n",
       "      <td>2925.89</td>\n",
       "    </tr>\n",
       "  </tbody>\n",
       "</table>\n",
       "</div>"
      ],
      "text/plain": [
       "   customer_code  total_orders_6m  total_orders_12m  total_revenue_6m   \n",
       "0              0               25                26           8481.39  \\\n",
       "1              1               21                31           4689.84   \n",
       "2              2               24                43           5977.61   \n",
       "3              3               13                44          16478.82   \n",
       "4              4               10                12           2548.56   \n",
       "\n",
       "   total_revenue_12m  \n",
       "0           17665.65  \n",
       "1            6780.03  \n",
       "2           11719.95  \n",
       "3           23332.12  \n",
       "4            2925.89  "
      ]
     },
     "execution_count": 25,
     "metadata": {},
     "output_type": "execute_result"
    }
   ],
   "source": [
    "customer_codes = []\n",
    "total_orders_6m = []\n",
    "total_revenues_6m = []\n",
    "total_orders_12m = []\n",
    "total_revenues_12m = []\n",
    "for _, row in date_past_6_12months.iterrows():\n",
    "    year_6month = row['6months_past_date'].year * 100 + row['6months_past_date'].month\n",
    "    year_12month = row['12months_past_date'].year * 100 + row['12months_past_date'].month\n",
    "    \n",
    "    tmp_orders_6m = customer_orders_past[(customer_orders_past['customer_code'] == row['customer_code'])&\n",
    "                                (customer_orders_past['order_yearmonth'] >= year_6month)]\n",
    "    tmp_orders_12m = customer_orders_past[(customer_orders_past['customer_code'] == row['customer_code'])&\n",
    "                                ((customer_orders_past['order_yearmonth'] <= year_6month)&\n",
    "                                (customer_orders_past['order_yearmonth'] >= year_12month))]\n",
    "    tmp_revenues_6m = customer_revenues_past[(customer_revenues_past['customer_code'] == row['customer_code'])&\n",
    "                                (customer_revenues_past['order_yearmonth'] >= year_6month)]\n",
    "    tmp_revenues_12m = customer_revenues_past[(customer_revenues_past['customer_code'] == row['customer_code'])&\n",
    "                                ((customer_revenues_past['order_yearmonth'] <= year_6month)&\n",
    "                                (customer_revenues_past['order_yearmonth'] >= year_12month))]\n",
    "    customer_codes.append(row['customer_code'])\n",
    "    total_orders_6m.append(tmp_orders_6m['total_orders'].sum())\n",
    "    total_revenues_6m.append(tmp_revenues_6m['total_revenue'].sum())\n",
    "    total_orders_12m.append(tmp_orders_12m['total_orders'].sum())\n",
    "    total_revenues_12m.append(tmp_revenues_12m['total_revenue'].sum())\n",
    "past6m_12m_revenue_orders = pd.DataFrame({'customer_code':customer_codes,\n",
    "                                    'total_orders_6m':total_orders_6m,\n",
    "                                     'total_orders_12m':total_orders_12m,\n",
    "                                     'total_revenue_6m':total_revenues_6m,\n",
    "                                    'total_revenue_12m':total_revenues_12m})\n",
    "past6m_12m_revenue_orders.head()"
   ]
  },
  {
   "cell_type": "markdown",
   "id": "0948123b",
   "metadata": {},
   "source": [
    "def get_change(current, previous):\n",
    "    if current == previous:\n",
    "        return 0\n",
    "    if previous == 0:\n",
    "        return 1\n",
    "    return (abs(current - previous) / previous)\n"
   ]
  },
  {
   "cell_type": "code",
   "execution_count": 26,
   "id": "7d8e3491",
   "metadata": {},
   "outputs": [],
   "source": [
    "def get_change(current, previous):\n",
    "    if current == previous:\n",
    "        return 0\n",
    "    if previous == 0:\n",
    "        return 1\n",
    "    return previous - current"
   ]
  },
  {
   "cell_type": "code",
   "execution_count": 27,
   "id": "37107805",
   "metadata": {
    "scrolled": true
   },
   "outputs": [
    {
     "data": {
      "text/html": [
       "<div>\n",
       "<style scoped>\n",
       "    .dataframe tbody tr th:only-of-type {\n",
       "        vertical-align: middle;\n",
       "    }\n",
       "\n",
       "    .dataframe tbody tr th {\n",
       "        vertical-align: top;\n",
       "    }\n",
       "\n",
       "    .dataframe thead th {\n",
       "        text-align: right;\n",
       "    }\n",
       "</style>\n",
       "<table border=\"1\" class=\"dataframe\">\n",
       "  <thead>\n",
       "    <tr style=\"text-align: right;\">\n",
       "      <th></th>\n",
       "      <th>customer_code</th>\n",
       "      <th>total_orders_6m</th>\n",
       "      <th>total_orders_12m</th>\n",
       "      <th>total_revenue_6m</th>\n",
       "      <th>total_revenue_12m</th>\n",
       "      <th>last_sem_revenue_diff</th>\n",
       "      <th>last_sem_orders_diff</th>\n",
       "    </tr>\n",
       "  </thead>\n",
       "  <tbody>\n",
       "    <tr>\n",
       "      <th>0</th>\n",
       "      <td>0</td>\n",
       "      <td>25</td>\n",
       "      <td>26</td>\n",
       "      <td>8481.39</td>\n",
       "      <td>17665.65</td>\n",
       "      <td>9184.26</td>\n",
       "      <td>1.0</td>\n",
       "    </tr>\n",
       "    <tr>\n",
       "      <th>1</th>\n",
       "      <td>1</td>\n",
       "      <td>21</td>\n",
       "      <td>31</td>\n",
       "      <td>4689.84</td>\n",
       "      <td>6780.03</td>\n",
       "      <td>2090.19</td>\n",
       "      <td>10.0</td>\n",
       "    </tr>\n",
       "    <tr>\n",
       "      <th>2</th>\n",
       "      <td>2</td>\n",
       "      <td>24</td>\n",
       "      <td>43</td>\n",
       "      <td>5977.61</td>\n",
       "      <td>11719.95</td>\n",
       "      <td>5742.34</td>\n",
       "      <td>19.0</td>\n",
       "    </tr>\n",
       "    <tr>\n",
       "      <th>3</th>\n",
       "      <td>3</td>\n",
       "      <td>13</td>\n",
       "      <td>44</td>\n",
       "      <td>16478.82</td>\n",
       "      <td>23332.12</td>\n",
       "      <td>6853.30</td>\n",
       "      <td>31.0</td>\n",
       "    </tr>\n",
       "    <tr>\n",
       "      <th>4</th>\n",
       "      <td>4</td>\n",
       "      <td>10</td>\n",
       "      <td>12</td>\n",
       "      <td>2548.56</td>\n",
       "      <td>2925.89</td>\n",
       "      <td>377.33</td>\n",
       "      <td>2.0</td>\n",
       "    </tr>\n",
       "  </tbody>\n",
       "</table>\n",
       "</div>"
      ],
      "text/plain": [
       "   customer_code  total_orders_6m  total_orders_12m  total_revenue_6m   \n",
       "0              0               25                26           8481.39  \\\n",
       "1              1               21                31           4689.84   \n",
       "2              2               24                43           5977.61   \n",
       "3              3               13                44          16478.82   \n",
       "4              4               10                12           2548.56   \n",
       "\n",
       "   total_revenue_12m  last_sem_revenue_diff  last_sem_orders_diff  \n",
       "0           17665.65                9184.26                   1.0  \n",
       "1            6780.03                2090.19                  10.0  \n",
       "2           11719.95                5742.34                  19.0  \n",
       "3           23332.12                6853.30                  31.0  \n",
       "4            2925.89                 377.33                   2.0  "
      ]
     },
     "execution_count": 27,
     "metadata": {},
     "output_type": "execute_result"
    }
   ],
   "source": [
    "past6m_12m_revenue_orders['last_sem_revenue_diff'] = past6m_12m_revenue_orders.apply(lambda x: get_change(x['total_revenue_6m'], x['total_revenue_12m']), axis=1)\n",
    "past6m_12m_revenue_orders['last_sem_orders_diff'] = past6m_12m_revenue_orders.apply(lambda x: get_change(x['total_orders_6m'], x['total_orders_12m']), axis=1)\n",
    "past6m_12m_revenue_orders.head()"
   ]
  },
  {
   "cell_type": "code",
   "execution_count": 28,
   "id": "3f8d0f16",
   "metadata": {},
   "outputs": [],
   "source": [
    "all_data = all_data.merge(past6m_12m_revenue_orders, how='left', on = 'customer_code')"
   ]
  },
  {
   "cell_type": "code",
   "execution_count": 29,
   "id": "e007cffc",
   "metadata": {},
   "outputs": [
    {
     "data": {
      "text/html": [
       "<div>\n",
       "<style scoped>\n",
       "    .dataframe tbody tr th:only-of-type {\n",
       "        vertical-align: middle;\n",
       "    }\n",
       "\n",
       "    .dataframe tbody tr th {\n",
       "        vertical-align: top;\n",
       "    }\n",
       "\n",
       "    .dataframe thead th {\n",
       "        text-align: right;\n",
       "    }\n",
       "</style>\n",
       "<table border=\"1\" class=\"dataframe\">\n",
       "  <thead>\n",
       "    <tr style=\"text-align: right;\">\n",
       "      <th></th>\n",
       "      <th>customer_code</th>\n",
       "      <th>last_purchase_date</th>\n",
       "      <th>is_churn</th>\n",
       "      <th>group_code</th>\n",
       "      <th>segment_code</th>\n",
       "      <th>register_date</th>\n",
       "      <th>total_orders_6m</th>\n",
       "      <th>total_orders_12m</th>\n",
       "      <th>total_revenue_6m</th>\n",
       "      <th>total_revenue_12m</th>\n",
       "      <th>last_sem_revenue_diff</th>\n",
       "      <th>last_sem_orders_diff</th>\n",
       "    </tr>\n",
       "  </thead>\n",
       "  <tbody>\n",
       "    <tr>\n",
       "      <th>0</th>\n",
       "      <td>31</td>\n",
       "      <td>2018-05-23 00:00:00+00:00</td>\n",
       "      <td>0</td>\n",
       "      <td>0</td>\n",
       "      <td>0</td>\n",
       "      <td>2018-05-23 00:00:00+00:00</td>\n",
       "      <td>37</td>\n",
       "      <td>57</td>\n",
       "      <td>6130.84</td>\n",
       "      <td>10622.81</td>\n",
       "      <td>4491.97</td>\n",
       "      <td>20.0</td>\n",
       "    </tr>\n",
       "    <tr>\n",
       "      <th>1</th>\n",
       "      <td>560</td>\n",
       "      <td>2018-02-21 00:00:00+00:00</td>\n",
       "      <td>0</td>\n",
       "      <td>0</td>\n",
       "      <td>0</td>\n",
       "      <td>2018-02-21 00:00:00+00:00</td>\n",
       "      <td>13</td>\n",
       "      <td>19</td>\n",
       "      <td>4468.68</td>\n",
       "      <td>5969.50</td>\n",
       "      <td>1500.82</td>\n",
       "      <td>6.0</td>\n",
       "    </tr>\n",
       "    <tr>\n",
       "      <th>2</th>\n",
       "      <td>697</td>\n",
       "      <td>2018-06-12 00:00:00+00:00</td>\n",
       "      <td>0</td>\n",
       "      <td>0</td>\n",
       "      <td>0</td>\n",
       "      <td>2018-06-12 00:00:00+00:00</td>\n",
       "      <td>24</td>\n",
       "      <td>14</td>\n",
       "      <td>7425.31</td>\n",
       "      <td>4793.38</td>\n",
       "      <td>-2631.93</td>\n",
       "      <td>-10.0</td>\n",
       "    </tr>\n",
       "    <tr>\n",
       "      <th>3</th>\n",
       "      <td>438</td>\n",
       "      <td>2018-02-26 00:00:00+00:00</td>\n",
       "      <td>0</td>\n",
       "      <td>0</td>\n",
       "      <td>0</td>\n",
       "      <td>2018-02-26 00:00:00+00:00</td>\n",
       "      <td>7</td>\n",
       "      <td>0</td>\n",
       "      <td>753.62</td>\n",
       "      <td>0.00</td>\n",
       "      <td>1.00</td>\n",
       "      <td>1.0</td>\n",
       "    </tr>\n",
       "    <tr>\n",
       "      <th>4</th>\n",
       "      <td>234</td>\n",
       "      <td>2018-02-08 00:00:00+00:00</td>\n",
       "      <td>1</td>\n",
       "      <td>0</td>\n",
       "      <td>0</td>\n",
       "      <td>2018-02-08 00:00:00+00:00</td>\n",
       "      <td>36</td>\n",
       "      <td>39</td>\n",
       "      <td>47617.64</td>\n",
       "      <td>42218.18</td>\n",
       "      <td>-5399.46</td>\n",
       "      <td>3.0</td>\n",
       "    </tr>\n",
       "  </tbody>\n",
       "</table>\n",
       "</div>"
      ],
      "text/plain": [
       "   customer_code        last_purchase_date  is_churn  group_code   \n",
       "0             31 2018-05-23 00:00:00+00:00         0           0  \\\n",
       "1            560 2018-02-21 00:00:00+00:00         0           0   \n",
       "2            697 2018-06-12 00:00:00+00:00         0           0   \n",
       "3            438 2018-02-26 00:00:00+00:00         0           0   \n",
       "4            234 2018-02-08 00:00:00+00:00         1           0   \n",
       "\n",
       "   segment_code             register_date  total_orders_6m  total_orders_12m   \n",
       "0             0 2018-05-23 00:00:00+00:00               37                57  \\\n",
       "1             0 2018-02-21 00:00:00+00:00               13                19   \n",
       "2             0 2018-06-12 00:00:00+00:00               24                14   \n",
       "3             0 2018-02-26 00:00:00+00:00                7                 0   \n",
       "4             0 2018-02-08 00:00:00+00:00               36                39   \n",
       "\n",
       "   total_revenue_6m  total_revenue_12m  last_sem_revenue_diff   \n",
       "0           6130.84           10622.81                4491.97  \\\n",
       "1           4468.68            5969.50                1500.82   \n",
       "2           7425.31            4793.38               -2631.93   \n",
       "3            753.62               0.00                   1.00   \n",
       "4          47617.64           42218.18               -5399.46   \n",
       "\n",
       "   last_sem_orders_diff  \n",
       "0                  20.0  \n",
       "1                   6.0  \n",
       "2                 -10.0  \n",
       "3                   1.0  \n",
       "4                   3.0  "
      ]
     },
     "execution_count": 29,
     "metadata": {},
     "output_type": "execute_result"
    }
   ],
   "source": [
    "all_data.head()"
   ]
  },
  {
   "cell_type": "code",
   "execution_count": 30,
   "id": "f4173d4f",
   "metadata": {},
   "outputs": [
    {
     "data": {
      "text/plain": [
       "customer_code            0\n",
       "last_purchase_date       0\n",
       "is_churn                 0\n",
       "group_code               0\n",
       "segment_code             0\n",
       "register_date            0\n",
       "total_orders_6m          0\n",
       "total_orders_12m         0\n",
       "total_revenue_6m         0\n",
       "total_revenue_12m        0\n",
       "last_sem_revenue_diff    0\n",
       "last_sem_orders_diff     0\n",
       "dtype: int64"
      ]
     },
     "execution_count": 30,
     "metadata": {},
     "output_type": "execute_result"
    }
   ],
   "source": [
    "all_data.isnull().sum()"
   ]
  },
  {
   "cell_type": "code",
   "execution_count": 34,
   "id": "984a8b01",
   "metadata": {},
   "outputs": [
    {
     "data": {
      "image/png": "[encoded data removed]",
      "text/plain": [
       "<Figure size 640x480 with 1 Axes>"
      ]
     },
     "metadata": {},
     "output_type": "display_data"
    }
   ],
   "source": [
    "## Histogram to avaliate the orders difference between churn variable.\n",
    "graph_orders = sns.barplot( x = 'is_churn',y = 'last_sem_orders_diff', data = all_data);\n",
    "graph_orders.set(ylabel = 'Orders difference in 6 months interval');"
   ]
  },
  {
   "cell_type": "code",
   "execution_count": 35,
   "id": "9532600c",
   "metadata": {},
   "outputs": [
    {
     "data": {
      "text/html": [
       "<div>\n",
       "<style scoped>\n",
       "    .dataframe tbody tr th:only-of-type {\n",
       "        vertical-align: middle;\n",
       "    }\n",
       "\n",
       "    .dataframe tbody tr th {\n",
       "        vertical-align: top;\n",
       "    }\n",
       "\n",
       "    .dataframe thead tr th {\n",
       "        text-align: left;\n",
       "    }\n",
       "\n",
       "    .dataframe thead tr:last-of-type th {\n",
       "        text-align: right;\n",
       "    }\n",
       "</style>\n",
       "<table border=\"1\" class=\"dataframe\">\n",
       "  <thead>\n",
       "    <tr>\n",
       "      <th></th>\n",
       "      <th colspan=\"8\" halign=\"left\">last_sem_revenue_diff</th>\n",
       "    </tr>\n",
       "    <tr>\n",
       "      <th></th>\n",
       "      <th>count</th>\n",
       "      <th>mean</th>\n",
       "      <th>std</th>\n",
       "      <th>min</th>\n",
       "      <th>25%</th>\n",
       "      <th>50%</th>\n",
       "      <th>75%</th>\n",
       "      <th>max</th>\n",
       "    </tr>\n",
       "    <tr>\n",
       "      <th>is_churn</th>\n",
       "      <th></th>\n",
       "      <th></th>\n",
       "      <th></th>\n",
       "      <th></th>\n",
       "      <th></th>\n",
       "      <th></th>\n",
       "      <th></th>\n",
       "      <th></th>\n",
       "    </tr>\n",
       "  </thead>\n",
       "  <tbody>\n",
       "    <tr>\n",
       "      <th>0</th>\n",
       "      <td>737.0</td>\n",
       "      <td>1966.983433</td>\n",
       "      <td>6915.154206</td>\n",
       "      <td>-102761.84</td>\n",
       "      <td>-186.91</td>\n",
       "      <td>1427.39</td>\n",
       "      <td>3758.81</td>\n",
       "      <td>57409.59</td>\n",
       "    </tr>\n",
       "    <tr>\n",
       "      <th>1</th>\n",
       "      <td>81.0</td>\n",
       "      <td>19319.019877</td>\n",
       "      <td>104833.829047</td>\n",
       "      <td>-30505.08</td>\n",
       "      <td>-1249.34</td>\n",
       "      <td>1.00</td>\n",
       "      <td>5076.12</td>\n",
       "      <td>894977.79</td>\n",
       "    </tr>\n",
       "  </tbody>\n",
       "</table>\n",
       "</div>"
      ],
      "text/plain": [
       "         last_sem_revenue_diff                                           \n",
       "                         count          mean            std        min   \n",
       "is_churn                                                                 \n",
       "0                        737.0   1966.983433    6915.154206 -102761.84  \\\n",
       "1                         81.0  19319.019877  104833.829047  -30505.08   \n",
       "\n",
       "                                                \n",
       "              25%      50%      75%        max  \n",
       "is_churn                                        \n",
       "0         -186.91  1427.39  3758.81   57409.59  \n",
       "1        -1249.34     1.00  5076.12  894977.79  "
      ]
     },
     "execution_count": 35,
     "metadata": {},
     "output_type": "execute_result"
    }
   ],
   "source": [
    "all_data[['last_sem_revenue_diff', 'is_churn']].groupby('is_churn').describe()"
   ]
  },
  {
   "cell_type": "code",
   "execution_count": 36,
   "id": "38f13325",
   "metadata": {},
   "outputs": [
    {
     "data": {
      "image/png": "[encoded data removed]",
      "text/plain": [
       "<Figure size 640x480 with 1 Axes>"
      ]
     },
     "metadata": {},
     "output_type": "display_data"
    }
   ],
   "source": [
    "graf_churn = sns.barplot(x = 'is_churn', y='last_sem_revenue_diff', data = all_data);\n",
    "graf_churn.set(ylabel = 'Order revenue difference in 6 months interval');"
   ]
  },
  {
   "cell_type": "markdown",
   "id": "70a9214d",
   "metadata": {},
   "source": [
    "The idea is to colect two pieces of information in time. First we colect the first semester (current) from the last order that a customer made. After that, we collect the information about the past semester of the first step (previous), with that we have two separete information among 1 year. \n",
    "The propose of this is the hypothesis that if a customer expent/ordered is different between the semesters, this could indicate a tendence for churn, as showed in graphics above."
   ]
  },
  {
   "cell_type": "markdown",
   "id": "582294e2",
   "metadata": {},
   "source": [
    "### sales x customers\n",
    "Another hypothesis is that the `sales_channel` can be a indicator for a customer churn. Once that the customer uses the `sales_channel`, `sales_brand` and `seller_code` in an order, these variables could have influence in the customer decision to end a contract or not."
   ]
  },
  {
   "cell_type": "code",
   "execution_count": 37,
   "id": "1e0c1860",
   "metadata": {},
   "outputs": [
    {
     "data": {
      "text/html": [
       "<div>\n",
       "<style scoped>\n",
       "    .dataframe tbody tr th:only-of-type {\n",
       "        vertical-align: middle;\n",
       "    }\n",
       "\n",
       "    .dataframe tbody tr th {\n",
       "        vertical-align: top;\n",
       "    }\n",
       "\n",
       "    .dataframe thead th {\n",
       "        text-align: right;\n",
       "    }\n",
       "</style>\n",
       "<table border=\"1\" class=\"dataframe\">\n",
       "  <thead>\n",
       "    <tr style=\"text-align: right;\">\n",
       "      <th></th>\n",
       "      <th>customer_code</th>\n",
       "      <th>branch_id</th>\n",
       "      <th>sales_channel</th>\n",
       "      <th>seller_code</th>\n",
       "    </tr>\n",
       "  </thead>\n",
       "  <tbody>\n",
       "    <tr>\n",
       "      <th>0</th>\n",
       "      <td>0</td>\n",
       "      <td>0</td>\n",
       "      <td>0</td>\n",
       "      <td>153</td>\n",
       "    </tr>\n",
       "    <tr>\n",
       "      <th>1</th>\n",
       "      <td>1</td>\n",
       "      <td>0</td>\n",
       "      <td>0</td>\n",
       "      <td>154</td>\n",
       "    </tr>\n",
       "    <tr>\n",
       "      <th>2</th>\n",
       "      <td>2</td>\n",
       "      <td>0</td>\n",
       "      <td>0</td>\n",
       "      <td>224</td>\n",
       "    </tr>\n",
       "    <tr>\n",
       "      <th>3</th>\n",
       "      <td>3</td>\n",
       "      <td>0</td>\n",
       "      <td>0</td>\n",
       "      <td>134</td>\n",
       "    </tr>\n",
       "    <tr>\n",
       "      <th>4</th>\n",
       "      <td>4</td>\n",
       "      <td>0</td>\n",
       "      <td>0</td>\n",
       "      <td>3</td>\n",
       "    </tr>\n",
       "  </tbody>\n",
       "</table>\n",
       "</div>"
      ],
      "text/plain": [
       "   customer_code  branch_id  sales_channel  seller_code\n",
       "0              0          0              0          153\n",
       "1              1          0              0          154\n",
       "2              2          0              0          224\n",
       "3              3          0              0          134\n",
       "4              4          0              0            3"
      ]
     },
     "execution_count": 37,
     "metadata": {},
     "output_type": "execute_result"
    }
   ],
   "source": [
    "## check the last month order sale information\n",
    "sales_data = orders_df.sort_values(by='register_date', ascending=False).groupby(['customer_code']).first()\\\n",
    ".reset_index()[['customer_code','branch_id','sales_channel', 'seller_code']]\n",
    "sales_data.head()"
   ]
  },
  {
   "cell_type": "code",
   "execution_count": 38,
   "id": "e9aefc43",
   "metadata": {},
   "outputs": [],
   "source": [
    "all_data = all_data.merge(sales_data, how='left', on = 'customer_code')"
   ]
  },
  {
   "cell_type": "code",
   "execution_count": 39,
   "id": "fb79ef6a",
   "metadata": {},
   "outputs": [
    {
     "data": {
      "text/html": [
       "<div>\n",
       "<style scoped>\n",
       "    .dataframe tbody tr th:only-of-type {\n",
       "        vertical-align: middle;\n",
       "    }\n",
       "\n",
       "    .dataframe tbody tr th {\n",
       "        vertical-align: top;\n",
       "    }\n",
       "\n",
       "    .dataframe thead th {\n",
       "        text-align: right;\n",
       "    }\n",
       "</style>\n",
       "<table border=\"1\" class=\"dataframe\">\n",
       "  <thead>\n",
       "    <tr style=\"text-align: right;\">\n",
       "      <th></th>\n",
       "      <th>customer_code</th>\n",
       "      <th>last_purchase_date</th>\n",
       "      <th>is_churn</th>\n",
       "      <th>group_code</th>\n",
       "      <th>segment_code</th>\n",
       "      <th>register_date</th>\n",
       "      <th>total_orders_6m</th>\n",
       "      <th>total_orders_12m</th>\n",
       "      <th>total_revenue_6m</th>\n",
       "      <th>total_revenue_12m</th>\n",
       "      <th>last_sem_revenue_diff</th>\n",
       "      <th>last_sem_orders_diff</th>\n",
       "      <th>branch_id</th>\n",
       "      <th>sales_channel</th>\n",
       "      <th>seller_code</th>\n",
       "    </tr>\n",
       "  </thead>\n",
       "  <tbody>\n",
       "    <tr>\n",
       "      <th>0</th>\n",
       "      <td>31</td>\n",
       "      <td>2018-05-23 00:00:00+00:00</td>\n",
       "      <td>0</td>\n",
       "      <td>0</td>\n",
       "      <td>0</td>\n",
       "      <td>2018-05-23 00:00:00+00:00</td>\n",
       "      <td>37</td>\n",
       "      <td>57</td>\n",
       "      <td>6130.84</td>\n",
       "      <td>10622.81</td>\n",
       "      <td>4491.97</td>\n",
       "      <td>20.0</td>\n",
       "      <td>0</td>\n",
       "      <td>0</td>\n",
       "      <td>181</td>\n",
       "    </tr>\n",
       "    <tr>\n",
       "      <th>1</th>\n",
       "      <td>560</td>\n",
       "      <td>2018-02-21 00:00:00+00:00</td>\n",
       "      <td>0</td>\n",
       "      <td>0</td>\n",
       "      <td>0</td>\n",
       "      <td>2018-02-21 00:00:00+00:00</td>\n",
       "      <td>13</td>\n",
       "      <td>19</td>\n",
       "      <td>4468.68</td>\n",
       "      <td>5969.50</td>\n",
       "      <td>1500.82</td>\n",
       "      <td>6.0</td>\n",
       "      <td>0</td>\n",
       "      <td>0</td>\n",
       "      <td>119</td>\n",
       "    </tr>\n",
       "    <tr>\n",
       "      <th>2</th>\n",
       "      <td>697</td>\n",
       "      <td>2018-06-12 00:00:00+00:00</td>\n",
       "      <td>0</td>\n",
       "      <td>0</td>\n",
       "      <td>0</td>\n",
       "      <td>2018-06-12 00:00:00+00:00</td>\n",
       "      <td>24</td>\n",
       "      <td>14</td>\n",
       "      <td>7425.31</td>\n",
       "      <td>4793.38</td>\n",
       "      <td>-2631.93</td>\n",
       "      <td>-10.0</td>\n",
       "      <td>0</td>\n",
       "      <td>0</td>\n",
       "      <td>27</td>\n",
       "    </tr>\n",
       "    <tr>\n",
       "      <th>3</th>\n",
       "      <td>438</td>\n",
       "      <td>2018-02-26 00:00:00+00:00</td>\n",
       "      <td>0</td>\n",
       "      <td>0</td>\n",
       "      <td>0</td>\n",
       "      <td>2018-02-26 00:00:00+00:00</td>\n",
       "      <td>7</td>\n",
       "      <td>0</td>\n",
       "      <td>753.62</td>\n",
       "      <td>0.00</td>\n",
       "      <td>1.00</td>\n",
       "      <td>1.0</td>\n",
       "      <td>0</td>\n",
       "      <td>0</td>\n",
       "      <td>38</td>\n",
       "    </tr>\n",
       "    <tr>\n",
       "      <th>4</th>\n",
       "      <td>234</td>\n",
       "      <td>2018-02-08 00:00:00+00:00</td>\n",
       "      <td>1</td>\n",
       "      <td>0</td>\n",
       "      <td>0</td>\n",
       "      <td>2018-02-08 00:00:00+00:00</td>\n",
       "      <td>36</td>\n",
       "      <td>39</td>\n",
       "      <td>47617.64</td>\n",
       "      <td>42218.18</td>\n",
       "      <td>-5399.46</td>\n",
       "      <td>3.0</td>\n",
       "      <td>0</td>\n",
       "      <td>0</td>\n",
       "      <td>27</td>\n",
       "    </tr>\n",
       "  </tbody>\n",
       "</table>\n",
       "</div>"
      ],
      "text/plain": [
       "   customer_code        last_purchase_date  is_churn  group_code   \n",
       "0             31 2018-05-23 00:00:00+00:00         0           0  \\\n",
       "1            560 2018-02-21 00:00:00+00:00         0           0   \n",
       "2            697 2018-06-12 00:00:00+00:00         0           0   \n",
       "3            438 2018-02-26 00:00:00+00:00         0           0   \n",
       "4            234 2018-02-08 00:00:00+00:00         1           0   \n",
       "\n",
       "   segment_code             register_date  total_orders_6m  total_orders_12m   \n",
       "0             0 2018-05-23 00:00:00+00:00               37                57  \\\n",
       "1             0 2018-02-21 00:00:00+00:00               13                19   \n",
       "2             0 2018-06-12 00:00:00+00:00               24                14   \n",
       "3             0 2018-02-26 00:00:00+00:00                7                 0   \n",
       "4             0 2018-02-08 00:00:00+00:00               36                39   \n",
       "\n",
       "   total_revenue_6m  total_revenue_12m  last_sem_revenue_diff   \n",
       "0           6130.84           10622.81                4491.97  \\\n",
       "1           4468.68            5969.50                1500.82   \n",
       "2           7425.31            4793.38               -2631.93   \n",
       "3            753.62               0.00                   1.00   \n",
       "4          47617.64           42218.18               -5399.46   \n",
       "\n",
       "   last_sem_orders_diff  branch_id  sales_channel  seller_code  \n",
       "0                  20.0          0              0          181  \n",
       "1                   6.0          0              0          119  \n",
       "2                 -10.0          0              0           27  \n",
       "3                   1.0          0              0           38  \n",
       "4                   3.0          0              0           27  "
      ]
     },
     "execution_count": 39,
     "metadata": {},
     "output_type": "execute_result"
    }
   ],
   "source": [
    "all_data.head()"
   ]
  },
  {
   "cell_type": "code",
   "execution_count": 46,
   "id": "74228c93",
   "metadata": {},
   "outputs": [
    {
     "data": {
      "text/plain": [
       "branch_id\n",
       "0    81\n",
       "Name: is_churn, dtype: int64"
      ]
     },
     "execution_count": 46,
     "metadata": {},
     "output_type": "execute_result"
    }
   ],
   "source": [
    "all_data.groupby(['branch_id'])['is_churn'].sum()"
   ]
  },
  {
   "cell_type": "code",
   "execution_count": 47,
   "id": "91d4497b",
   "metadata": {},
   "outputs": [
    {
     "data": {
      "text/plain": [
       "sales_channel\n",
       "0     58\n",
       "1      0\n",
       "2      4\n",
       "6     17\n",
       "7      1\n",
       "10     1\n",
       "14     0\n",
       "Name: is_churn, dtype: int64"
      ]
     },
     "execution_count": 47,
     "metadata": {},
     "output_type": "execute_result"
    }
   ],
   "source": [
    "all_data.groupby(['sales_channel'])['is_churn'].sum()"
   ]
  },
  {
   "cell_type": "code",
   "execution_count": 49,
   "id": "4a995a71",
   "metadata": {},
   "outputs": [
    {
     "data": {
      "text/plain": [
       "count    137.000000\n",
       "mean       0.591241\n",
       "std        0.879127\n",
       "min        0.000000\n",
       "25%        0.000000\n",
       "50%        0.000000\n",
       "75%        1.000000\n",
       "max        4.000000\n",
       "Name: is_churn, dtype: float64"
      ]
     },
     "execution_count": 49,
     "metadata": {},
     "output_type": "execute_result"
    }
   ],
   "source": [
    "all_data.groupby(['seller_code'])['is_churn'].sum().describe()"
   ]
  },
  {
   "cell_type": "code",
   "execution_count": 41,
   "id": "a971f6a5",
   "metadata": {},
   "outputs": [
    {
     "data": {
      "image/png": "[encoded data removed]",
      "text/plain": [
       "<Figure size 1000x500 with 2 Axes>"
      ]
     },
     "metadata": {},
     "output_type": "display_data"
    }
   ],
   "source": [
    "graf_gen = sns.catplot(x = 'sales_channel', col = 'is_churn', kind = 'count', data = all_data);\n",
    "graf_gen.set(ylabel = 'Frequency');"
   ]
  },
  {
   "cell_type": "markdown",
   "id": "a0879be7",
   "metadata": {},
   "source": [
    "The variance between categories for `branch_id` and `seller_code` is almost inexistent, the only possible category variable correlated with the sales that contains some information about the response variable is the `sales_channel` variable, with mostly of the information concentrated in the 0 and 6 channels."
   ]
  },
  {
   "cell_type": "code",
   "execution_count": 50,
   "id": "b88bd698",
   "metadata": {},
   "outputs": [
    {
     "name": "stdout",
     "output_type": "stream",
     "text": [
      "<class 'pandas.core.frame.DataFrame'>\n",
      "RangeIndex: 818 entries, 0 to 817\n",
      "Data columns (total 15 columns):\n",
      " #   Column                 Non-Null Count  Dtype              \n",
      "---  ------                 --------------  -----              \n",
      " 0   customer_code          818 non-null    int64              \n",
      " 1   last_purchase_date     818 non-null    datetime64[ns, UTC]\n",
      " 2   is_churn               818 non-null    int64              \n",
      " 3   group_code             818 non-null    int64              \n",
      " 4   segment_code           818 non-null    int64              \n",
      " 5   register_date          818 non-null    datetime64[ns, UTC]\n",
      " 6   total_orders_6m        818 non-null    int64              \n",
      " 7   total_orders_12m       818 non-null    int64              \n",
      " 8   total_revenue_6m       818 non-null    float64            \n",
      " 9   total_revenue_12m      818 non-null    float64            \n",
      " 10  last_sem_revenue_diff  818 non-null    float64            \n",
      " 11  last_sem_orders_diff   818 non-null    float64            \n",
      " 12  branch_id              818 non-null    int64              \n",
      " 13  sales_channel          818 non-null    int64              \n",
      " 14  seller_code            818 non-null    int64              \n",
      "dtypes: datetime64[ns, UTC](2), float64(4), int64(9)\n",
      "memory usage: 96.0 KB\n"
     ]
    }
   ],
   "source": [
    "all_data.info()"
   ]
  },
  {
   "cell_type": "code",
   "execution_count": 52,
   "id": "a1fd568f",
   "metadata": {},
   "outputs": [
    {
     "data": {
      "image/png": "[encoded data removed]",
      "text/plain": [
       "<Figure size 640x480 with 2 Axes>"
      ]
     },
     "metadata": {},
     "output_type": "display_data"
    }
   ],
   "source": [
    "## Correlation analyses to avaliate the quantitative variables that could be user for our models.\n",
    "correlacoes = all_data[['total_revenue_6m', 'last_sem_revenue_diff', 'total_revenue_12m',\n",
    "                        'total_orders_6m', 'total_orders_12m','last_sem_orders_diff']].corr().round(3)\n",
    "sns.heatmap(correlacoes, cmap = 'crest', annot = True);\n",
    "\n",
    "## The source of information - that generate the quantitative variables above - are the same, which explains the\n",
    "## great correlation between them. However is still possible to separate some variables that show reasonable correlation.\n",
    "## One possible explanation is the difference between the values of the items, which could explain that orders is \n",
    "## not directly correlated with total paid value."
   ]
  },
  {
   "cell_type": "code",
   "execution_count": 53,
   "id": "86069de9",
   "metadata": {},
   "outputs": [],
   "source": [
    "### Categorical to dummy\n",
    "### Note: because some of the channels in sale do not have much information we grouped in 'others' category\n",
    "all_data['segment_code_categorical'] = all_data['segment_code'].map(lambda x: 'segment_code_{}'.format(x))\n",
    "all_data['sales_channel_categorical'] = all_data['sales_channel'].map(lambda x: 'sales_channel_{}'.format(x) if x in [0, 6] else 'sales_channel_others')"
   ]
  },
  {
   "cell_type": "code",
   "execution_count": 54,
   "id": "36d9ea8a",
   "metadata": {},
   "outputs": [
    {
     "data": {
      "text/plain": [
       "sales_channel_categorical\n",
       "sales_channel_0         620\n",
       "sales_channel_6         181\n",
       "sales_channel_others     17\n",
       "Name: count, dtype: int64"
      ]
     },
     "execution_count": 54,
     "metadata": {},
     "output_type": "execute_result"
    }
   ],
   "source": [
    "all_data.sales_channel_categorical.value_counts()"
   ]
  },
  {
   "cell_type": "code",
   "execution_count": 55,
   "id": "3e180613",
   "metadata": {},
   "outputs": [
    {
     "data": {
      "text/html": [
       "<div>\n",
       "<style scoped>\n",
       "    .dataframe tbody tr th:only-of-type {\n",
       "        vertical-align: middle;\n",
       "    }\n",
       "\n",
       "    .dataframe tbody tr th {\n",
       "        vertical-align: top;\n",
       "    }\n",
       "\n",
       "    .dataframe thead th {\n",
       "        text-align: right;\n",
       "    }\n",
       "</style>\n",
       "<table border=\"1\" class=\"dataframe\">\n",
       "  <thead>\n",
       "    <tr style=\"text-align: right;\">\n",
       "      <th></th>\n",
       "      <th>segment_code_categorical_segment_code_0</th>\n",
       "      <th>segment_code_categorical_segment_code_1</th>\n",
       "      <th>segment_code_categorical_segment_code_2</th>\n",
       "      <th>segment_code_categorical_segment_code_3</th>\n",
       "      <th>segment_code_categorical_segment_code_4</th>\n",
       "      <th>segment_code_categorical_segment_code_5</th>\n",
       "      <th>segment_code_categorical_segment_code_6</th>\n",
       "      <th>sales_channel_categorical_sales_channel_0</th>\n",
       "      <th>sales_channel_categorical_sales_channel_6</th>\n",
       "      <th>sales_channel_categorical_sales_channel_others</th>\n",
       "    </tr>\n",
       "  </thead>\n",
       "  <tbody>\n",
       "    <tr>\n",
       "      <th>0</th>\n",
       "      <td>1</td>\n",
       "      <td>0</td>\n",
       "      <td>0</td>\n",
       "      <td>0</td>\n",
       "      <td>0</td>\n",
       "      <td>0</td>\n",
       "      <td>0</td>\n",
       "      <td>1</td>\n",
       "      <td>0</td>\n",
       "      <td>0</td>\n",
       "    </tr>\n",
       "    <tr>\n",
       "      <th>1</th>\n",
       "      <td>1</td>\n",
       "      <td>0</td>\n",
       "      <td>0</td>\n",
       "      <td>0</td>\n",
       "      <td>0</td>\n",
       "      <td>0</td>\n",
       "      <td>0</td>\n",
       "      <td>1</td>\n",
       "      <td>0</td>\n",
       "      <td>0</td>\n",
       "    </tr>\n",
       "    <tr>\n",
       "      <th>2</th>\n",
       "      <td>1</td>\n",
       "      <td>0</td>\n",
       "      <td>0</td>\n",
       "      <td>0</td>\n",
       "      <td>0</td>\n",
       "      <td>0</td>\n",
       "      <td>0</td>\n",
       "      <td>1</td>\n",
       "      <td>0</td>\n",
       "      <td>0</td>\n",
       "    </tr>\n",
       "    <tr>\n",
       "      <th>3</th>\n",
       "      <td>1</td>\n",
       "      <td>0</td>\n",
       "      <td>0</td>\n",
       "      <td>0</td>\n",
       "      <td>0</td>\n",
       "      <td>0</td>\n",
       "      <td>0</td>\n",
       "      <td>1</td>\n",
       "      <td>0</td>\n",
       "      <td>0</td>\n",
       "    </tr>\n",
       "    <tr>\n",
       "      <th>4</th>\n",
       "      <td>1</td>\n",
       "      <td>0</td>\n",
       "      <td>0</td>\n",
       "      <td>0</td>\n",
       "      <td>0</td>\n",
       "      <td>0</td>\n",
       "      <td>0</td>\n",
       "      <td>1</td>\n",
       "      <td>0</td>\n",
       "      <td>0</td>\n",
       "    </tr>\n",
       "  </tbody>\n",
       "</table>\n",
       "</div>"
      ],
      "text/plain": [
       "   segment_code_categorical_segment_code_0   \n",
       "0                                        1  \\\n",
       "1                                        1   \n",
       "2                                        1   \n",
       "3                                        1   \n",
       "4                                        1   \n",
       "\n",
       "   segment_code_categorical_segment_code_1   \n",
       "0                                        0  \\\n",
       "1                                        0   \n",
       "2                                        0   \n",
       "3                                        0   \n",
       "4                                        0   \n",
       "\n",
       "   segment_code_categorical_segment_code_2   \n",
       "0                                        0  \\\n",
       "1                                        0   \n",
       "2                                        0   \n",
       "3                                        0   \n",
       "4                                        0   \n",
       "\n",
       "   segment_code_categorical_segment_code_3   \n",
       "0                                        0  \\\n",
       "1                                        0   \n",
       "2                                        0   \n",
       "3                                        0   \n",
       "4                                        0   \n",
       "\n",
       "   segment_code_categorical_segment_code_4   \n",
       "0                                        0  \\\n",
       "1                                        0   \n",
       "2                                        0   \n",
       "3                                        0   \n",
       "4                                        0   \n",
       "\n",
       "   segment_code_categorical_segment_code_5   \n",
       "0                                        0  \\\n",
       "1                                        0   \n",
       "2                                        0   \n",
       "3                                        0   \n",
       "4                                        0   \n",
       "\n",
       "   segment_code_categorical_segment_code_6   \n",
       "0                                        0  \\\n",
       "1                                        0   \n",
       "2                                        0   \n",
       "3                                        0   \n",
       "4                                        0   \n",
       "\n",
       "   sales_channel_categorical_sales_channel_0   \n",
       "0                                          1  \\\n",
       "1                                          1   \n",
       "2                                          1   \n",
       "3                                          1   \n",
       "4                                          1   \n",
       "\n",
       "   sales_channel_categorical_sales_channel_6   \n",
       "0                                          0  \\\n",
       "1                                          0   \n",
       "2                                          0   \n",
       "3                                          0   \n",
       "4                                          0   \n",
       "\n",
       "   sales_channel_categorical_sales_channel_others  \n",
       "0                                               0  \n",
       "1                                               0  \n",
       "2                                               0  \n",
       "3                                               0  \n",
       "4                                               0  "
      ]
     },
     "execution_count": 55,
     "metadata": {},
     "output_type": "execute_result"
    }
   ],
   "source": [
    "dummies_df = pd.get_dummies(all_data[['segment_code_categorical', 'sales_channel_categorical']])+0\n",
    "dummies_df.head()"
   ]
  },
  {
   "cell_type": "code",
   "execution_count": 56,
   "id": "bc6fb575",
   "metadata": {},
   "outputs": [],
   "source": [
    "all_data = pd.concat([all_data, dummies_df], axis=1)\n"
   ]
  },
  {
   "cell_type": "code",
   "execution_count": 57,
   "id": "76591d0d",
   "metadata": {},
   "outputs": [
    {
     "data": {
      "text/html": [
       "<div>\n",
       "<style scoped>\n",
       "    .dataframe tbody tr th:only-of-type {\n",
       "        vertical-align: middle;\n",
       "    }\n",
       "\n",
       "    .dataframe tbody tr th {\n",
       "        vertical-align: top;\n",
       "    }\n",
       "\n",
       "    .dataframe thead th {\n",
       "        text-align: right;\n",
       "    }\n",
       "</style>\n",
       "<table border=\"1\" class=\"dataframe\">\n",
       "  <thead>\n",
       "    <tr style=\"text-align: right;\">\n",
       "      <th></th>\n",
       "      <th>customer_code</th>\n",
       "      <th>last_purchase_date</th>\n",
       "      <th>is_churn</th>\n",
       "      <th>group_code</th>\n",
       "      <th>segment_code</th>\n",
       "      <th>register_date</th>\n",
       "      <th>total_orders_6m</th>\n",
       "      <th>total_orders_12m</th>\n",
       "      <th>total_revenue_6m</th>\n",
       "      <th>total_revenue_12m</th>\n",
       "      <th>...</th>\n",
       "      <th>segment_code_categorical_segment_code_0</th>\n",
       "      <th>segment_code_categorical_segment_code_1</th>\n",
       "      <th>segment_code_categorical_segment_code_2</th>\n",
       "      <th>segment_code_categorical_segment_code_3</th>\n",
       "      <th>segment_code_categorical_segment_code_4</th>\n",
       "      <th>segment_code_categorical_segment_code_5</th>\n",
       "      <th>segment_code_categorical_segment_code_6</th>\n",
       "      <th>sales_channel_categorical_sales_channel_0</th>\n",
       "      <th>sales_channel_categorical_sales_channel_6</th>\n",
       "      <th>sales_channel_categorical_sales_channel_others</th>\n",
       "    </tr>\n",
       "  </thead>\n",
       "  <tbody>\n",
       "    <tr>\n",
       "      <th>0</th>\n",
       "      <td>31</td>\n",
       "      <td>2018-05-23 00:00:00+00:00</td>\n",
       "      <td>0</td>\n",
       "      <td>0</td>\n",
       "      <td>0</td>\n",
       "      <td>2018-05-23 00:00:00+00:00</td>\n",
       "      <td>37</td>\n",
       "      <td>57</td>\n",
       "      <td>6130.84</td>\n",
       "      <td>10622.81</td>\n",
       "      <td>...</td>\n",
       "      <td>1</td>\n",
       "      <td>0</td>\n",
       "      <td>0</td>\n",
       "      <td>0</td>\n",
       "      <td>0</td>\n",
       "      <td>0</td>\n",
       "      <td>0</td>\n",
       "      <td>1</td>\n",
       "      <td>0</td>\n",
       "      <td>0</td>\n",
       "    </tr>\n",
       "    <tr>\n",
       "      <th>1</th>\n",
       "      <td>560</td>\n",
       "      <td>2018-02-21 00:00:00+00:00</td>\n",
       "      <td>0</td>\n",
       "      <td>0</td>\n",
       "      <td>0</td>\n",
       "      <td>2018-02-21 00:00:00+00:00</td>\n",
       "      <td>13</td>\n",
       "      <td>19</td>\n",
       "      <td>4468.68</td>\n",
       "      <td>5969.50</td>\n",
       "      <td>...</td>\n",
       "      <td>1</td>\n",
       "      <td>0</td>\n",
       "      <td>0</td>\n",
       "      <td>0</td>\n",
       "      <td>0</td>\n",
       "      <td>0</td>\n",
       "      <td>0</td>\n",
       "      <td>1</td>\n",
       "      <td>0</td>\n",
       "      <td>0</td>\n",
       "    </tr>\n",
       "    <tr>\n",
       "      <th>2</th>\n",
       "      <td>697</td>\n",
       "      <td>2018-06-12 00:00:00+00:00</td>\n",
       "      <td>0</td>\n",
       "      <td>0</td>\n",
       "      <td>0</td>\n",
       "      <td>2018-06-12 00:00:00+00:00</td>\n",
       "      <td>24</td>\n",
       "      <td>14</td>\n",
       "      <td>7425.31</td>\n",
       "      <td>4793.38</td>\n",
       "      <td>...</td>\n",
       "      <td>1</td>\n",
       "      <td>0</td>\n",
       "      <td>0</td>\n",
       "      <td>0</td>\n",
       "      <td>0</td>\n",
       "      <td>0</td>\n",
       "      <td>0</td>\n",
       "      <td>1</td>\n",
       "      <td>0</td>\n",
       "      <td>0</td>\n",
       "    </tr>\n",
       "    <tr>\n",
       "      <th>3</th>\n",
       "      <td>438</td>\n",
       "      <td>2018-02-26 00:00:00+00:00</td>\n",
       "      <td>0</td>\n",
       "      <td>0</td>\n",
       "      <td>0</td>\n",
       "      <td>2018-02-26 00:00:00+00:00</td>\n",
       "      <td>7</td>\n",
       "      <td>0</td>\n",
       "      <td>753.62</td>\n",
       "      <td>0.00</td>\n",
       "      <td>...</td>\n",
       "      <td>1</td>\n",
       "      <td>0</td>\n",
       "      <td>0</td>\n",
       "      <td>0</td>\n",
       "      <td>0</td>\n",
       "      <td>0</td>\n",
       "      <td>0</td>\n",
       "      <td>1</td>\n",
       "      <td>0</td>\n",
       "      <td>0</td>\n",
       "    </tr>\n",
       "    <tr>\n",
       "      <th>4</th>\n",
       "      <td>234</td>\n",
       "      <td>2018-02-08 00:00:00+00:00</td>\n",
       "      <td>1</td>\n",
       "      <td>0</td>\n",
       "      <td>0</td>\n",
       "      <td>2018-02-08 00:00:00+00:00</td>\n",
       "      <td>36</td>\n",
       "      <td>39</td>\n",
       "      <td>47617.64</td>\n",
       "      <td>42218.18</td>\n",
       "      <td>...</td>\n",
       "      <td>1</td>\n",
       "      <td>0</td>\n",
       "      <td>0</td>\n",
       "      <td>0</td>\n",
       "      <td>0</td>\n",
       "      <td>0</td>\n",
       "      <td>0</td>\n",
       "      <td>1</td>\n",
       "      <td>0</td>\n",
       "      <td>0</td>\n",
       "    </tr>\n",
       "  </tbody>\n",
       "</table>\n",
       "<p>5 rows × 27 columns</p>\n",
       "</div>"
      ],
      "text/plain": [
       "   customer_code        last_purchase_date  is_churn  group_code   \n",
       "0             31 2018-05-23 00:00:00+00:00         0           0  \\\n",
       "1            560 2018-02-21 00:00:00+00:00         0           0   \n",
       "2            697 2018-06-12 00:00:00+00:00         0           0   \n",
       "3            438 2018-02-26 00:00:00+00:00         0           0   \n",
       "4            234 2018-02-08 00:00:00+00:00         1           0   \n",
       "\n",
       "   segment_code             register_date  total_orders_6m  total_orders_12m   \n",
       "0             0 2018-05-23 00:00:00+00:00               37                57  \\\n",
       "1             0 2018-02-21 00:00:00+00:00               13                19   \n",
       "2             0 2018-06-12 00:00:00+00:00               24                14   \n",
       "3             0 2018-02-26 00:00:00+00:00                7                 0   \n",
       "4             0 2018-02-08 00:00:00+00:00               36                39   \n",
       "\n",
       "   total_revenue_6m  total_revenue_12m  ...   \n",
       "0           6130.84           10622.81  ...  \\\n",
       "1           4468.68            5969.50  ...   \n",
       "2           7425.31            4793.38  ...   \n",
       "3            753.62               0.00  ...   \n",
       "4          47617.64           42218.18  ...   \n",
       "\n",
       "   segment_code_categorical_segment_code_0   \n",
       "0                                        1  \\\n",
       "1                                        1   \n",
       "2                                        1   \n",
       "3                                        1   \n",
       "4                                        1   \n",
       "\n",
       "   segment_code_categorical_segment_code_1   \n",
       "0                                        0  \\\n",
       "1                                        0   \n",
       "2                                        0   \n",
       "3                                        0   \n",
       "4                                        0   \n",
       "\n",
       "   segment_code_categorical_segment_code_2   \n",
       "0                                        0  \\\n",
       "1                                        0   \n",
       "2                                        0   \n",
       "3                                        0   \n",
       "4                                        0   \n",
       "\n",
       "   segment_code_categorical_segment_code_3   \n",
       "0                                        0  \\\n",
       "1                                        0   \n",
       "2                                        0   \n",
       "3                                        0   \n",
       "4                                        0   \n",
       "\n",
       "   segment_code_categorical_segment_code_4   \n",
       "0                                        0  \\\n",
       "1                                        0   \n",
       "2                                        0   \n",
       "3                                        0   \n",
       "4                                        0   \n",
       "\n",
       "  segment_code_categorical_segment_code_5   \n",
       "0                                       0  \\\n",
       "1                                       0   \n",
       "2                                       0   \n",
       "3                                       0   \n",
       "4                                       0   \n",
       "\n",
       "  segment_code_categorical_segment_code_6   \n",
       "0                                       0  \\\n",
       "1                                       0   \n",
       "2                                       0   \n",
       "3                                       0   \n",
       "4                                       0   \n",
       "\n",
       "   sales_channel_categorical_sales_channel_0   \n",
       "0                                          1  \\\n",
       "1                                          1   \n",
       "2                                          1   \n",
       "3                                          1   \n",
       "4                                          1   \n",
       "\n",
       "   sales_channel_categorical_sales_channel_6   \n",
       "0                                          0  \\\n",
       "1                                          0   \n",
       "2                                          0   \n",
       "3                                          0   \n",
       "4                                          0   \n",
       "\n",
       "   sales_channel_categorical_sales_channel_others  \n",
       "0                                               0  \n",
       "1                                               0  \n",
       "2                                               0  \n",
       "3                                               0  \n",
       "4                                               0  \n",
       "\n",
       "[5 rows x 27 columns]"
      ]
     },
     "execution_count": 57,
     "metadata": {},
     "output_type": "execute_result"
    }
   ],
   "source": [
    "all_data.head()"
   ]
  },
  {
   "cell_type": "code",
   "execution_count": 103,
   "id": "0ed778a0",
   "metadata": {},
   "outputs": [],
   "source": [
    "all_data.to_csv(\"./data/all_data.csv\", sep=\"\\t\")"
   ]
  },
  {
   "cell_type": "code",
   "execution_count": 81,
   "id": "3aff446d",
   "metadata": {},
   "outputs": [
    {
     "name": "stderr",
     "output_type": "stream",
     "text": [
      "\n",
      "A value is trying to be set on a copy of a slice from a DataFrame.\n",
      "Try using .loc[row_indexer,col_indexer] = value instead\n",
      "\n",
      "See the caveats in the documentation: https://pandas.pydata.org/pandas-docs/stable/user_guide/indexing.html#returning-a-view-versus-a-copy\n"
     ]
    },
    {
     "data": {
      "text/html": [
       "<div>\n",
       "<style scoped>\n",
       "    .dataframe tbody tr th:only-of-type {\n",
       "        vertical-align: middle;\n",
       "    }\n",
       "\n",
       "    .dataframe tbody tr th {\n",
       "        vertical-align: top;\n",
       "    }\n",
       "\n",
       "    .dataframe thead th {\n",
       "        text-align: right;\n",
       "    }\n",
       "</style>\n",
       "<table border=\"1\" class=\"dataframe\">\n",
       "  <thead>\n",
       "    <tr style=\"text-align: right;\">\n",
       "      <th></th>\n",
       "      <th>sales_channel_categorical_sales_channel_0</th>\n",
       "      <th>sales_channel_categorical_sales_channel_6</th>\n",
       "      <th>last_sem_revenue_diff</th>\n",
       "      <th>total_orders_12m</th>\n",
       "      <th>total_orders_6m</th>\n",
       "      <th>is_churn</th>\n",
       "    </tr>\n",
       "  </thead>\n",
       "  <tbody>\n",
       "    <tr>\n",
       "      <th>0</th>\n",
       "      <td>1</td>\n",
       "      <td>0</td>\n",
       "      <td>4491.97</td>\n",
       "      <td>57</td>\n",
       "      <td>37</td>\n",
       "      <td>0.0</td>\n",
       "    </tr>\n",
       "    <tr>\n",
       "      <th>1</th>\n",
       "      <td>1</td>\n",
       "      <td>0</td>\n",
       "      <td>1500.82</td>\n",
       "      <td>19</td>\n",
       "      <td>13</td>\n",
       "      <td>0.0</td>\n",
       "    </tr>\n",
       "    <tr>\n",
       "      <th>2</th>\n",
       "      <td>1</td>\n",
       "      <td>0</td>\n",
       "      <td>-2631.93</td>\n",
       "      <td>14</td>\n",
       "      <td>24</td>\n",
       "      <td>0.0</td>\n",
       "    </tr>\n",
       "    <tr>\n",
       "      <th>3</th>\n",
       "      <td>1</td>\n",
       "      <td>0</td>\n",
       "      <td>1.00</td>\n",
       "      <td>0</td>\n",
       "      <td>7</td>\n",
       "      <td>0.0</td>\n",
       "    </tr>\n",
       "    <tr>\n",
       "      <th>4</th>\n",
       "      <td>1</td>\n",
       "      <td>0</td>\n",
       "      <td>-5399.46</td>\n",
       "      <td>39</td>\n",
       "      <td>36</td>\n",
       "      <td>1.0</td>\n",
       "    </tr>\n",
       "  </tbody>\n",
       "</table>\n",
       "</div>"
      ],
      "text/plain": [
       "   sales_channel_categorical_sales_channel_0   \n",
       "0                                          1  \\\n",
       "1                                          1   \n",
       "2                                          1   \n",
       "3                                          1   \n",
       "4                                          1   \n",
       "\n",
       "   sales_channel_categorical_sales_channel_6  last_sem_revenue_diff   \n",
       "0                                          0                4491.97  \\\n",
       "1                                          0                1500.82   \n",
       "2                                          0               -2631.93   \n",
       "3                                          0                   1.00   \n",
       "4                                          0               -5399.46   \n",
       "\n",
       "   total_orders_12m  total_orders_6m  is_churn  \n",
       "0                57               37       0.0  \n",
       "1                19               13       0.0  \n",
       "2                14               24       0.0  \n",
       "3                 0                7       0.0  \n",
       "4                39               36       1.0  "
      ]
     },
     "execution_count": 81,
     "metadata": {},
     "output_type": "execute_result"
    }
   ],
   "source": [
    "dados = all_data[[\n",
    "           'sales_channel_categorical_sales_channel_0',\n",
    "           'sales_channel_categorical_sales_channel_6',\n",
    "            'last_sem_revenue_diff',\n",
    "             'total_orders_12m',\n",
    "            'total_orders_6m',\n",
    "            'is_churn']]\n",
    "\n",
    "dados['is_churn'] = pd.to_numeric(dados['is_churn'], downcast = 'float')\n",
    "\n",
    "dados.head()"
   ]
  },
  {
   "cell_type": "code",
   "execution_count": 82,
   "id": "14ce0ea0",
   "metadata": {},
   "outputs": [],
   "source": [
    "#### Test and train sets ####\n",
    "\n",
    "churn = dados.is_churn.copy()\n",
    "dados = dados.drop(['is_churn'], axis = 1)\n",
    "\n",
    "from sklearn.model_selection import train_test_split\n",
    "\n",
    "## Because the proportion of variable `is_churn` is not the same, we use the `stratify` parameter to split the set\n",
    "## with equal proportion between train and test.\n",
    "X_train, X_test, y_train, y_test = train_test_split(dados,\n",
    "                                                    churn,\n",
    "                                                    test_size = 0.25,\n",
    "                                                    random_state = 42,\n",
    "                                                    stratify = churn)"
   ]
  },
  {
   "cell_type": "code",
   "execution_count": 83,
   "id": "be80fffe",
   "metadata": {},
   "outputs": [
    {
     "data": {
      "text/plain": [
       "(613, 5)"
      ]
     },
     "execution_count": 83,
     "metadata": {},
     "output_type": "execute_result"
    }
   ],
   "source": [
    "X_train.shape"
   ]
  },
  {
   "cell_type": "code",
   "execution_count": 84,
   "id": "bff4dfc1",
   "metadata": {},
   "outputs": [
    {
     "data": {
      "text/plain": [
       "(205, 5)"
      ]
     },
     "execution_count": 84,
     "metadata": {},
     "output_type": "execute_result"
    }
   ],
   "source": [
    "X_test.shape"
   ]
  },
  {
   "cell_type": "code",
   "execution_count": 85,
   "id": "c22dc7d1",
   "metadata": {},
   "outputs": [],
   "source": [
    "from sklearn.model_selection import KFold\n",
    "from sklearn.model_selection import cross_val_score\n",
    "from sklearn.linear_model import LogisticRegression\n",
    "from sklearn import metrics\n",
    "from sklearn.metrics import auc, roc_auc_score, roc_curve, recall_score, log_loss\n",
    "import statsmodels.api as sm"
   ]
  },
  {
   "cell_type": "code",
   "execution_count": 86,
   "id": "bd20fdb0",
   "metadata": {},
   "outputs": [
    {
     "data": {
      "text/html": [
       "<div>\n",
       "<style scoped>\n",
       "    .dataframe tbody tr th:only-of-type {\n",
       "        vertical-align: middle;\n",
       "    }\n",
       "\n",
       "    .dataframe tbody tr th {\n",
       "        vertical-align: top;\n",
       "    }\n",
       "\n",
       "    .dataframe thead th {\n",
       "        text-align: right;\n",
       "    }\n",
       "</style>\n",
       "<table border=\"1\" class=\"dataframe\">\n",
       "  <thead>\n",
       "    <tr style=\"text-align: right;\">\n",
       "      <th></th>\n",
       "      <th>sales_channel_categorical_sales_channel_0</th>\n",
       "      <th>sales_channel_categorical_sales_channel_6</th>\n",
       "      <th>last_sem_revenue_diff</th>\n",
       "      <th>total_orders_12m</th>\n",
       "      <th>total_orders_6m</th>\n",
       "    </tr>\n",
       "  </thead>\n",
       "  <tbody>\n",
       "    <tr>\n",
       "      <th>0</th>\n",
       "      <td>1</td>\n",
       "      <td>0</td>\n",
       "      <td>4491.97</td>\n",
       "      <td>57</td>\n",
       "      <td>37</td>\n",
       "    </tr>\n",
       "    <tr>\n",
       "      <th>1</th>\n",
       "      <td>1</td>\n",
       "      <td>0</td>\n",
       "      <td>1500.82</td>\n",
       "      <td>19</td>\n",
       "      <td>13</td>\n",
       "    </tr>\n",
       "    <tr>\n",
       "      <th>2</th>\n",
       "      <td>1</td>\n",
       "      <td>0</td>\n",
       "      <td>-2631.93</td>\n",
       "      <td>14</td>\n",
       "      <td>24</td>\n",
       "    </tr>\n",
       "    <tr>\n",
       "      <th>3</th>\n",
       "      <td>1</td>\n",
       "      <td>0</td>\n",
       "      <td>1.00</td>\n",
       "      <td>0</td>\n",
       "      <td>7</td>\n",
       "    </tr>\n",
       "    <tr>\n",
       "      <th>4</th>\n",
       "      <td>1</td>\n",
       "      <td>0</td>\n",
       "      <td>-5399.46</td>\n",
       "      <td>39</td>\n",
       "      <td>36</td>\n",
       "    </tr>\n",
       "  </tbody>\n",
       "</table>\n",
       "</div>"
      ],
      "text/plain": [
       "   sales_channel_categorical_sales_channel_0   \n",
       "0                                          1  \\\n",
       "1                                          1   \n",
       "2                                          1   \n",
       "3                                          1   \n",
       "4                                          1   \n",
       "\n",
       "   sales_channel_categorical_sales_channel_6  last_sem_revenue_diff   \n",
       "0                                          0                4491.97  \\\n",
       "1                                          0                1500.82   \n",
       "2                                          0               -2631.93   \n",
       "3                                          0                   1.00   \n",
       "4                                          0               -5399.46   \n",
       "\n",
       "   total_orders_12m  total_orders_6m  \n",
       "0                57               37  \n",
       "1                19               13  \n",
       "2                14               24  \n",
       "3                 0                7  \n",
       "4                39               36  "
      ]
     },
     "execution_count": 86,
     "metadata": {},
     "output_type": "execute_result"
    }
   ],
   "source": [
    "dados.head()"
   ]
  },
  {
   "cell_type": "markdown",
   "id": "7b19fe5c",
   "metadata": {},
   "source": [
    "##### Logistic notebooks references\n",
    "To select the features used in the models it was necessary to iterate above the features groups in order to choose the best ones using the logistic regression model and summary. The references of iteration can be read in the follow:\n",
    "- [iterations](./tests_log_variables.ipynb)"
   ]
  },
  {
   "cell_type": "markdown",
   "id": "e7e540c5",
   "metadata": {},
   "source": [
    "### Logistic Regression"
   ]
  },
  {
   "cell_type": "code",
   "execution_count": 87,
   "id": "0a6f9da8",
   "metadata": {},
   "outputs": [
    {
     "name": "stdout",
     "output_type": "stream",
     "text": [
      "Optimization terminated successfully.\n",
      "         Current function value: 0.303060\n",
      "         Iterations 8\n",
      "                                      Results: Logit\n",
      "==========================================================================================\n",
      "Model:                       Logit                    Method:                   MLE       \n",
      "Dependent Variable:          is_churn                 Pseudo R-squared:         0.062     \n",
      "Date:                        2023-05-18 18:03         AIC:                      505.8060  \n",
      "No. Observations:            818                      BIC:                      529.3403  \n",
      "Df Model:                    4                        Log-Likelihood:           -247.90   \n",
      "Df Residuals:                813                      LL-Null:                  -264.16   \n",
      "Converged:                   1.0000                   LLR p-value:              1.5079e-06\n",
      "No. Iterations:              8.0000                   Scale:                    1.0000    \n",
      "------------------------------------------------------------------------------------------\n",
      "                                           Coef.  Std.Err.    z     P>|z|   [0.025  0.975]\n",
      "------------------------------------------------------------------------------------------\n",
      "sales_channel_categorical_sales_channel_0 -2.5232   0.1780 -14.1793 0.0000 -2.8720 -2.1744\n",
      "sales_channel_categorical_sales_channel_6 -2.3931   0.2625  -9.1155 0.0000 -2.9077 -1.8786\n",
      "last_sem_revenue_diff                      0.0001   0.0000   2.4649 0.0137  0.0000  0.0001\n",
      "total_orders_12m                          -0.0160   0.0050  -3.1894 0.0014 -0.0258 -0.0062\n",
      "total_orders_6m                            0.0231   0.0072   3.1978 0.0014  0.0089  0.0373\n",
      "==========================================================================================\n",
      "\n"
     ]
    }
   ],
   "source": [
    "logistic_method = sm.Logit(churn,dados)\n",
    "result_log = logistic_method.fit()\n",
    "print(result_log.summary2())"
   ]
  },
  {
   "cell_type": "code",
   "execution_count": 88,
   "id": "fe23de6c",
   "metadata": {},
   "outputs": [
    {
     "name": "stdout",
     "output_type": "stream",
     "text": [
      "AUC: 0.67\n"
     ]
    }
   ],
   "source": [
    "## k-Fold Cross-Validation.\n",
    "## k = 10.\n",
    "\n",
    "kfold = KFold(n_splits = 10)\n",
    "model_CV = LogisticRegression(solver = 'liblinear', class_weight = \"balanced\", random_state = 10)\n",
    "medida = 'roc_auc'\n",
    "resultado = cross_val_score(model_CV, X_train, y_train, cv = kfold, scoring = medida)\n",
    "\n",
    "print('AUC: %.2f' % (resultado.mean()))"
   ]
  },
  {
   "cell_type": "markdown",
   "id": "370e40d7",
   "metadata": {},
   "source": [
    "AUC is a measure that represents the level of separability of the model. This measure indicates how much the model is able to distinguish between classes. The higher the AUC, the better the model is at correctly classifying the observations, i.e., the model will be able to classify 0 as 0 and 1 as 1.\n",
    "\n",
    "The logistic regression model validation process returned AUC equal to 67%. Out of 100 observations, 67 are classified correctly in the train dataset.\n",
    "\n",
    "Another important measurement related to the confusion matrix is precision. Of the customers predicted to churn, those that were correctly classified make up the accuracy measure."
   ]
  },
  {
   "cell_type": "code",
   "execution_count": 104,
   "id": "e6262cb7",
   "metadata": {},
   "outputs": [
    {
     "name": "stdout",
     "output_type": "stream",
     "text": [
      "Classification accuracy in the test set: 0.79\n"
     ]
    }
   ],
   "source": [
    "model_CV.fit(X_train, y_train)\n",
    "y_pred = model_CV.predict(X_test)\n",
    "print('Classification accuracy in the test set: {:.2f}'.format(model_CV.score(X_test, y_test)))"
   ]
  },
  {
   "cell_type": "markdown",
   "id": "86b92d26",
   "metadata": {},
   "source": [
    "Besides teh AUC measure was not the best, when we confront the logistic regression model with the test dataset we achieve a more interest result of 79% of accuracy."
   ]
  },
  {
   "cell_type": "code",
   "execution_count": 90,
   "id": "e8b144f5",
   "metadata": {},
   "outputs": [
    {
     "data": {
      "image/png": "[encoded data removed]",
      "text/plain": [
       "<Figure size 640x480 with 2 Axes>"
      ]
     },
     "metadata": {},
     "output_type": "display_data"
    }
   ],
   "source": [
    "## Confusion Matrix\n",
    "cnf_matrix = metrics.confusion_matrix(y_test, y_pred)\n",
    "sns.heatmap(pd.DataFrame(cnf_matrix), annot = True, cmap = \"crest\", fmt = 'g');"
   ]
  },
  {
   "cell_type": "markdown",
   "id": "dfa5ce02",
   "metadata": {},
   "source": [
    "According to the confusion matrix, the logistic regression model correctly classified 154 customers as non-churn and 12 customers as churn, out of a total of 205 observations. The classification accuracy in the test set is equal to 79%.\n",
    "It is also possible to calculate the probability associated with each customer ranking in churn or not churn, as done below. This measure is important as it allows identifying customers who are more likely to churn."
   ]
  },
  {
   "cell_type": "code",
   "execution_count": 105,
   "id": "42bc3e25",
   "metadata": {},
   "outputs": [
    {
     "data": {
      "text/plain": [
       "array([0.35381004, 0.6641809 , 0.50069504, 0.42427889, 0.63591353,\n",
       "       0.53353733, 0.44942511, 0.42349687, 0.43796573, 0.54571782,\n",
       "       0.5144672 , 0.36135909, 0.37322847, 0.52467808, 0.52648074,\n",
       "       0.51640514, 0.45531605, 0.46226318, 0.43590576, 0.42918129,\n",
       "       0.38100546, 0.37722804, 0.38656678, 0.43547362, 0.3831077 ,\n",
       "       0.35482751, 0.8382655 , 0.83276405, 0.45308568, 0.67353543,\n",
       "       0.42093572, 0.41468264, 0.64971171, 0.25789532, 0.38156498,\n",
       "       0.56753712, 0.46056983, 0.4580095 , 0.4637052 , 0.38140827,\n",
       "       0.47614482, 0.52454607, 0.37475397, 0.32587677, 0.43549086,\n",
       "       0.47969607, 0.46211241, 0.42094237, 0.42142606, 0.51233435,\n",
       "       0.48973663, 0.37220888, 0.45367835, 0.44356423, 0.45572785,\n",
       "       0.46138216, 0.37296946, 0.43049439, 0.45829982, 0.42987999,\n",
       "       0.37616203, 0.47696825, 0.49062646, 0.36507352, 0.41005898,\n",
       "       0.45054596, 0.43405604, 0.44472161, 0.46621876, 0.53520094,\n",
       "       0.53732425, 0.49017604, 0.39861256, 0.46888729, 0.42846008,\n",
       "       0.42166201, 0.47455043, 0.37122304, 0.50082558, 0.52410848,\n",
       "       0.40473618, 0.38364551, 0.36436803, 0.56700216, 0.52356444,\n",
       "       0.52298042, 0.38392   , 0.42167347, 0.37893075, 0.52888136,\n",
       "       0.49984173, 0.4532459 , 0.42068251, 0.40335259, 0.46526874,\n",
       "       0.38326541, 0.48528167, 0.48745092, 0.55143044, 0.37542174,\n",
       "       0.45127356, 0.3538083 , 0.34850124, 0.41590797, 0.41880504,\n",
       "       0.44146045, 0.89794587, 0.38987475, 0.4937906 , 0.38376273,\n",
       "       0.47823755, 0.47937531, 0.4549636 , 0.97311617, 0.43143391,\n",
       "       0.35546146, 0.47075186, 0.37545692, 0.43044798, 0.39575999,\n",
       "       0.40395376, 0.44398671, 0.51823599, 0.45742212, 0.407395  ,\n",
       "       0.38536406, 0.48549571, 0.45606975, 0.46785531, 0.35730597,\n",
       "       0.43980952, 0.45841353, 0.41879931, 0.45875551, 0.42833474,\n",
       "       0.88176268, 0.42486102, 0.52909077, 0.42536307, 0.45243881,\n",
       "       0.45810878, 0.40775407, 0.33107398, 0.406474  , 0.10111289,\n",
       "       0.40148076, 0.36299882, 0.44893724, 0.39057241, 0.42535169,\n",
       "       0.45761322, 0.42137636, 0.37735106, 0.49940843, 0.39586427,\n",
       "       0.48953027, 0.40588227, 0.42324348, 0.39840535, 0.40104751,\n",
       "       0.39985924, 0.45052399, 0.46831637, 0.47419826, 0.41559956,\n",
       "       0.38585885, 0.63291902, 0.40289787, 0.45600283, 0.407091  ,\n",
       "       0.491678  , 0.39516246, 0.82407797, 0.36161331, 0.46239516,\n",
       "       0.70227508, 0.57257747, 0.41422438, 0.42339427, 0.53157004,\n",
       "       0.3787577 , 0.39126661, 0.4405601 , 0.36927557, 0.48296438,\n",
       "       0.59730283, 0.47848764, 0.61490705, 0.52281159, 0.43538358,\n",
       "       0.48882411, 0.3564593 , 0.44907748, 0.46673379, 0.46940441,\n",
       "       0.48614094, 0.47801263, 0.55460531, 0.45345194, 0.3377302 ,\n",
       "       0.38899456, 0.45507536, 0.43919413, 0.82385144, 0.62524295])"
      ]
     },
     "execution_count": 105,
     "metadata": {},
     "output_type": "execute_result"
    }
   ],
   "source": [
    "## Probability associated with each customer.\n",
    "model_CV.fit(X_train, y_train)\n",
    "\n",
    "## Probability of the customer being churn:\n",
    "probs = model_CV.predict_proba(X_test)\n",
    "probs = probs[:, 1]\n",
    "probs"
   ]
  },
  {
   "cell_type": "code",
   "execution_count": 106,
   "id": "c247577e",
   "metadata": {},
   "outputs": [
    {
     "name": "stdout",
     "output_type": "stream",
     "text": [
      "AUC: 0.68\n"
     ]
    }
   ],
   "source": [
    "## AUC calculation considering the test set and predicted probabilities:\n",
    "logit_roc_auc = roc_auc_score(y_test, probs)\n",
    "print('AUC: %.2f' % logit_roc_auc)"
   ]
  },
  {
   "cell_type": "markdown",
   "id": "aecc9e90",
   "metadata": {},
   "source": [
    "### XGBoost\n",
    "The `XGBoost` machine learning algorithm consist in the idea to create multiple decision trees in order to predict the label of the response variable. The major idea consists in create \"weak\" decision tree models that isolated are not good, however with the **gradient boost** of the algorithm, these \"weak\" models are combined to evolve to a more robust final model.\n",
    "\n",
    "[reference](https://www.nvidia.com/en-us/glossary/data-science/xgboost/)"
   ]
  },
  {
   "cell_type": "code",
   "execution_count": 93,
   "id": "8dd2a1f6",
   "metadata": {},
   "outputs": [],
   "source": [
    "import xgboost as xgb\n",
    "\n",
    "from sklearn.model_selection import train_test_split\n",
    "\n",
    "X_train, X_test, y_train, y_test = train_test_split(dados,\n",
    "                                                    churn,\n",
    "                                                    test_size = 0.25,\n",
    "                                                    random_state = 5,\n",
    "                                                    stratify = churn)"
   ]
  },
  {
   "cell_type": "code",
   "execution_count": 94,
   "id": "05adf2df",
   "metadata": {},
   "outputs": [],
   "source": [
    "\n",
    "parametros = {'objective': 'binary:logistic', 'max_depth': 5}\n",
    "dmatrix_train = xgb.DMatrix(data = X_train, label = y_train)\n",
    "cv_xgboost = xgb.cv(dtrain = dmatrix_train, params = parametros, metrics = 'logloss', nfold = 10, seed = 10)"
   ]
  },
  {
   "cell_type": "code",
   "execution_count": 95,
   "id": "3ebe43b4",
   "metadata": {},
   "outputs": [
    {
     "data": {
      "text/html": [
       "<div>\n",
       "<style scoped>\n",
       "    .dataframe tbody tr th:only-of-type {\n",
       "        vertical-align: middle;\n",
       "    }\n",
       "\n",
       "    .dataframe tbody tr th {\n",
       "        vertical-align: top;\n",
       "    }\n",
       "\n",
       "    .dataframe thead th {\n",
       "        text-align: right;\n",
       "    }\n",
       "</style>\n",
       "<table border=\"1\" class=\"dataframe\">\n",
       "  <thead>\n",
       "    <tr style=\"text-align: right;\">\n",
       "      <th></th>\n",
       "      <th>train-logloss-mean</th>\n",
       "      <th>train-logloss-std</th>\n",
       "      <th>test-logloss-mean</th>\n",
       "      <th>test-logloss-std</th>\n",
       "    </tr>\n",
       "  </thead>\n",
       "  <tbody>\n",
       "    <tr>\n",
       "      <th>0</th>\n",
       "      <td>0.498925</td>\n",
       "      <td>0.002726</td>\n",
       "      <td>0.513481</td>\n",
       "      <td>0.012135</td>\n",
       "    </tr>\n",
       "    <tr>\n",
       "      <th>1</th>\n",
       "      <td>0.390746</td>\n",
       "      <td>0.003936</td>\n",
       "      <td>0.415202</td>\n",
       "      <td>0.020294</td>\n",
       "    </tr>\n",
       "    <tr>\n",
       "      <th>2</th>\n",
       "      <td>0.321780</td>\n",
       "      <td>0.004651</td>\n",
       "      <td>0.355791</td>\n",
       "      <td>0.029989</td>\n",
       "    </tr>\n",
       "    <tr>\n",
       "      <th>3</th>\n",
       "      <td>0.276162</td>\n",
       "      <td>0.005919</td>\n",
       "      <td>0.318901</td>\n",
       "      <td>0.038137</td>\n",
       "    </tr>\n",
       "    <tr>\n",
       "      <th>4</th>\n",
       "      <td>0.244059</td>\n",
       "      <td>0.006903</td>\n",
       "      <td>0.296414</td>\n",
       "      <td>0.044232</td>\n",
       "    </tr>\n",
       "    <tr>\n",
       "      <th>5</th>\n",
       "      <td>0.219951</td>\n",
       "      <td>0.007131</td>\n",
       "      <td>0.283263</td>\n",
       "      <td>0.052515</td>\n",
       "    </tr>\n",
       "    <tr>\n",
       "      <th>6</th>\n",
       "      <td>0.203337</td>\n",
       "      <td>0.008394</td>\n",
       "      <td>0.276741</td>\n",
       "      <td>0.058006</td>\n",
       "    </tr>\n",
       "    <tr>\n",
       "      <th>7</th>\n",
       "      <td>0.191248</td>\n",
       "      <td>0.008816</td>\n",
       "      <td>0.271030</td>\n",
       "      <td>0.062970</td>\n",
       "    </tr>\n",
       "    <tr>\n",
       "      <th>8</th>\n",
       "      <td>0.179852</td>\n",
       "      <td>0.008031</td>\n",
       "      <td>0.268307</td>\n",
       "      <td>0.067982</td>\n",
       "    </tr>\n",
       "    <tr>\n",
       "      <th>9</th>\n",
       "      <td>0.170344</td>\n",
       "      <td>0.007697</td>\n",
       "      <td>0.266317</td>\n",
       "      <td>0.071764</td>\n",
       "    </tr>\n",
       "  </tbody>\n",
       "</table>\n",
       "</div>"
      ],
      "text/plain": [
       "   train-logloss-mean  train-logloss-std  test-logloss-mean  test-logloss-std\n",
       "0            0.498925           0.002726           0.513481          0.012135\n",
       "1            0.390746           0.003936           0.415202          0.020294\n",
       "2            0.321780           0.004651           0.355791          0.029989\n",
       "3            0.276162           0.005919           0.318901          0.038137\n",
       "4            0.244059           0.006903           0.296414          0.044232\n",
       "5            0.219951           0.007131           0.283263          0.052515\n",
       "6            0.203337           0.008394           0.276741          0.058006\n",
       "7            0.191248           0.008816           0.271030          0.062970\n",
       "8            0.179852           0.008031           0.268307          0.067982\n",
       "9            0.170344           0.007697           0.266317          0.071764"
      ]
     },
     "execution_count": 95,
     "metadata": {},
     "output_type": "execute_result"
    }
   ],
   "source": [
    "cv_xgboost"
   ]
  },
  {
   "cell_type": "code",
   "execution_count": 96,
   "id": "b89925ef",
   "metadata": {},
   "outputs": [
    {
     "data": {
      "text/plain": [
       "9    0.27\n",
       "Name: test-logloss-mean, dtype: float64"
      ]
     },
     "execution_count": 96,
     "metadata": {},
     "output_type": "execute_result"
    }
   ],
   "source": [
    "## Métrica final:\n",
    "round(cv_xgboost['test-logloss-mean'].tail(1),2)"
   ]
  },
  {
   "cell_type": "code",
   "execution_count": 97,
   "id": "293aafad",
   "metadata": {},
   "outputs": [
    {
     "name": "stdout",
     "output_type": "stream",
     "text": [
      "[0]\tvalidation_0-logloss:0.50412\n",
      "[1]\tvalidation_0-logloss:0.40321\n",
      "[2]\tvalidation_0-logloss:0.34230\n",
      "[3]\tvalidation_0-logloss:0.30403\n",
      "[4]\tvalidation_0-logloss:0.28241\n",
      "[5]\tvalidation_0-logloss:0.27039\n",
      "[6]\tvalidation_0-logloss:0.26065\n",
      "[7]\tvalidation_0-logloss:0.25666\n",
      "[8]\tvalidation_0-logloss:0.25432\n",
      "[9]\tvalidation_0-logloss:0.24966\n",
      "[10]\tvalidation_0-logloss:0.24803\n",
      "[11]\tvalidation_0-logloss:0.24873\n",
      "[12]\tvalidation_0-logloss:0.24773\n",
      "[13]\tvalidation_0-logloss:0.25025\n",
      "[14]\tvalidation_0-logloss:0.25224\n",
      "[15]\tvalidation_0-logloss:0.25179\n",
      "[16]\tvalidation_0-logloss:0.25067\n",
      "[17]\tvalidation_0-logloss:0.25394\n",
      "[18]\tvalidation_0-logloss:0.25407\n",
      "[19]\tvalidation_0-logloss:0.25514\n",
      "[20]\tvalidation_0-logloss:0.25693\n",
      "[21]\tvalidation_0-logloss:0.25681\n",
      "[22]\tvalidation_0-logloss:0.25813\n",
      "[23]\tvalidation_0-logloss:0.26124\n",
      "[24]\tvalidation_0-logloss:0.26211\n",
      "[25]\tvalidation_0-logloss:0.26126\n",
      "[26]\tvalidation_0-logloss:0.26173\n",
      "[27]\tvalidation_0-logloss:0.26308\n",
      "[28]\tvalidation_0-logloss:0.26455\n",
      "[29]\tvalidation_0-logloss:0.26344\n",
      "[30]\tvalidation_0-logloss:0.26502\n"
     ]
    },
    {
     "name": "stderr",
     "output_type": "stream",
     "text": [
      "`use_label_encoder` is deprecated in 1.7.0.\n"
     ]
    },
    {
     "name": "stdout",
     "output_type": "stream",
     "text": [
      "[31]\tvalidation_0-logloss:0.26364\n",
      "[32]\tvalidation_0-logloss:0.26218\n",
      "[33]\tvalidation_0-logloss:0.26198\n",
      "[34]\tvalidation_0-logloss:0.26641\n",
      "[35]\tvalidation_0-logloss:0.26700\n",
      "[36]\tvalidation_0-logloss:0.27109\n",
      "[37]\tvalidation_0-logloss:0.27001\n",
      "[38]\tvalidation_0-logloss:0.26923\n",
      "[39]\tvalidation_0-logloss:0.26900\n",
      "[40]\tvalidation_0-logloss:0.27059\n",
      "[41]\tvalidation_0-logloss:0.27003\n",
      "[42]\tvalidation_0-logloss:0.26982\n",
      "[43]\tvalidation_0-logloss:0.26920\n",
      "[44]\tvalidation_0-logloss:0.26990\n",
      "[45]\tvalidation_0-logloss:0.27219\n",
      "[46]\tvalidation_0-logloss:0.27359\n",
      "[47]\tvalidation_0-logloss:0.27350\n",
      "[48]\tvalidation_0-logloss:0.27451\n",
      "[49]\tvalidation_0-logloss:0.27649\n",
      "[50]\tvalidation_0-logloss:0.27738\n",
      "[51]\tvalidation_0-logloss:0.27711\n",
      "[52]\tvalidation_0-logloss:0.27738\n",
      "[53]\tvalidation_0-logloss:0.27915\n",
      "[54]\tvalidation_0-logloss:0.28023\n",
      "[55]\tvalidation_0-logloss:0.28196\n",
      "[56]\tvalidation_0-logloss:0.28161\n",
      "[57]\tvalidation_0-logloss:0.28233\n",
      "[58]\tvalidation_0-logloss:0.28362\n",
      "[59]\tvalidation_0-logloss:0.28670\n",
      "[60]\tvalidation_0-logloss:0.28811\n",
      "[61]\tvalidation_0-logloss:0.28833\n",
      "[62]\tvalidation_0-logloss:0.28743\n",
      "[63]\tvalidation_0-logloss:0.28914\n",
      "[64]\tvalidation_0-logloss:0.28846\n",
      "[65]\tvalidation_0-logloss:0.28927\n",
      "[66]\tvalidation_0-logloss:0.29046\n",
      "[67]\tvalidation_0-logloss:0.29058\n",
      "[68]\tvalidation_0-logloss:0.28972\n",
      "[69]\tvalidation_0-logloss:0.28974\n",
      "[70]\tvalidation_0-logloss:0.28870\n",
      "[71]\tvalidation_0-logloss:0.29013\n",
      "[72]\tvalidation_0-logloss:0.29075\n",
      "[73]\tvalidation_0-logloss:0.29034\n",
      "[74]\tvalidation_0-logloss:0.29243\n",
      "[75]\tvalidation_0-logloss:0.29414\n",
      "[76]\tvalidation_0-logloss:0.29521\n",
      "[77]\tvalidation_0-logloss:0.29530\n",
      "[78]\tvalidation_0-logloss:0.29567\n",
      "[79]\tvalidation_0-logloss:0.29602\n",
      "[80]\tvalidation_0-logloss:0.29602\n",
      "[81]\tvalidation_0-logloss:0.29485\n",
      "[82]\tvalidation_0-logloss:0.29583\n",
      "[83]\tvalidation_0-logloss:0.29664\n",
      "[84]\tvalidation_0-logloss:0.29851\n",
      "[85]\tvalidation_0-logloss:0.29840\n",
      "[86]\tvalidation_0-logloss:0.29997\n",
      "[87]\tvalidation_0-logloss:0.29959\n",
      "[88]\tvalidation_0-logloss:0.29897\n",
      "[89]\tvalidation_0-logloss:0.30072\n",
      "[90]\tvalidation_0-logloss:0.30209\n",
      "[91]\tvalidation_0-logloss:0.30222\n",
      "[92]\tvalidation_0-logloss:0.30407\n",
      "[93]\tvalidation_0-logloss:0.30414\n",
      "[94]\tvalidation_0-logloss:0.30593\n",
      "[95]\tvalidation_0-logloss:0.30586\n",
      "[96]\tvalidation_0-logloss:0.30689\n",
      "[97]\tvalidation_0-logloss:0.30525\n",
      "[98]\tvalidation_0-logloss:0.30632\n",
      "[99]\tvalidation_0-logloss:0.30716\n"
     ]
    },
    {
     "data": {
      "text/html": [
       "<style>#sk-container-id-2 {color: black;background-color: white;}#sk-container-id-2 pre{padding: 0;}#sk-container-id-2 div.sk-toggleable {background-color: white;}#sk-container-id-2 label.sk-toggleable__label {cursor: pointer;display: block;width: 100%;margin-bottom: 0;padding: 0.3em;box-sizing: border-box;text-align: center;}#sk-container-id-2 label.sk-toggleable__label-arrow:before {content: \"▸\";float: left;margin-right: 0.25em;color: #696969;}#sk-container-id-2 label.sk-toggleable__label-arrow:hover:before {color: black;}#sk-container-id-2 div.sk-estimator:hover label.sk-toggleable__label-arrow:before {color: black;}#sk-container-id-2 div.sk-toggleable__content {max-height: 0;max-width: 0;overflow: hidden;text-align: left;background-color: #f0f8ff;}#sk-container-id-2 div.sk-toggleable__content pre {margin: 0.2em;color: black;border-radius: 0.25em;background-color: #f0f8ff;}#sk-container-id-2 input.sk-toggleable__control:checked~div.sk-toggleable__content {max-height: 200px;max-width: 100%;overflow: auto;}#sk-container-id-2 input.sk-toggleable__control:checked~label.sk-toggleable__label-arrow:before {content: \"▾\";}#sk-container-id-2 div.sk-estimator input.sk-toggleable__control:checked~label.sk-toggleable__label {background-color: #d4ebff;}#sk-container-id-2 div.sk-label input.sk-toggleable__control:checked~label.sk-toggleable__label {background-color: #d4ebff;}#sk-container-id-2 input.sk-hidden--visually {border: 0;clip: rect(1px 1px 1px 1px);clip: rect(1px, 1px, 1px, 1px);height: 1px;margin: -1px;overflow: hidden;padding: 0;position: absolute;width: 1px;}#sk-container-id-2 div.sk-estimator {font-family: monospace;background-color: #f0f8ff;border: 1px dotted black;border-radius: 0.25em;box-sizing: border-box;margin-bottom: 0.5em;}#sk-container-id-2 div.sk-estimator:hover {background-color: #d4ebff;}#sk-container-id-2 div.sk-parallel-item::after {content: \"\";width: 100%;border-bottom: 1px solid gray;flex-grow: 1;}#sk-container-id-2 div.sk-label:hover label.sk-toggleable__label {background-color: #d4ebff;}#sk-container-id-2 div.sk-serial::before {content: \"\";position: absolute;border-left: 1px solid gray;box-sizing: border-box;top: 0;bottom: 0;left: 50%;z-index: 0;}#sk-container-id-2 div.sk-serial {display: flex;flex-direction: column;align-items: center;background-color: white;padding-right: 0.2em;padding-left: 0.2em;position: relative;}#sk-container-id-2 div.sk-item {position: relative;z-index: 1;}#sk-container-id-2 div.sk-parallel {display: flex;align-items: stretch;justify-content: center;background-color: white;position: relative;}#sk-container-id-2 div.sk-item::before, #sk-container-id-2 div.sk-parallel-item::before {content: \"\";position: absolute;border-left: 1px solid gray;box-sizing: border-box;top: 0;bottom: 0;left: 50%;z-index: -1;}#sk-container-id-2 div.sk-parallel-item {display: flex;flex-direction: column;z-index: 1;position: relative;background-color: white;}#sk-container-id-2 div.sk-parallel-item:first-child::after {align-self: flex-end;width: 50%;}#sk-container-id-2 div.sk-parallel-item:last-child::after {align-self: flex-start;width: 50%;}#sk-container-id-2 div.sk-parallel-item:only-child::after {width: 0;}#sk-container-id-2 div.sk-dashed-wrapped {border: 1px dashed gray;margin: 0 0.4em 0.5em 0.4em;box-sizing: border-box;padding-bottom: 0.4em;background-color: white;}#sk-container-id-2 div.sk-label label {font-family: monospace;font-weight: bold;display: inline-block;line-height: 1.2em;}#sk-container-id-2 div.sk-label-container {text-align: center;}#sk-container-id-2 div.sk-container {/* jupyter's `normalize.less` sets `[hidden] { display: none; }` but bootstrap.min.css set `[hidden] { display: none !important; }` so we also need the `!important` here to be able to override the default hidden behavior on the sphinx rendered scikit-learn.org. See: https://github.com/scikit-learn/scikit-learn/issues/21755 */display: inline-block !important;position: relative;}#sk-container-id-2 div.sk-text-repr-fallback {display: none;}</style><div id=\"sk-container-id-2\" class=\"sk-top-container\"><div class=\"sk-text-repr-fallback\"><pre>XGBClassifier(base_score=None, booster=None, callbacks=None,\n",
       "              colsample_bylevel=None, colsample_bynode=None,\n",
       "              colsample_bytree=None, early_stopping_rounds=None,\n",
       "              enable_categorical=False, eval_metric=&#x27;logloss&#x27;,\n",
       "              feature_types=None, gamma=None, gpu_id=None, grow_policy=None,\n",
       "              importance_type=None, interaction_constraints=None,\n",
       "              learning_rate=None, max_bin=None, max_cat_threshold=None,\n",
       "              max_cat_to_onehot=None, max_delta_step=None, max_depth=5,\n",
       "              max_leaves=None, min_child_weight=None, missing=nan,\n",
       "              monotone_constraints=None, n_estimators=100, n_jobs=-1,\n",
       "              num_parallel_tree=None, predictor=None, random_state=None, ...)</pre><b>In a Jupyter environment, please rerun this cell to show the HTML representation or trust the notebook. <br />On GitHub, the HTML representation is unable to render, please try loading this page with nbviewer.org.</b></div><div class=\"sk-container\" hidden><div class=\"sk-item\"><div class=\"sk-estimator sk-toggleable\"><input class=\"sk-toggleable__control sk-hidden--visually\" id=\"sk-estimator-id-2\" type=\"checkbox\" checked><label for=\"sk-estimator-id-2\" class=\"sk-toggleable__label sk-toggleable__label-arrow\">XGBClassifier</label><div class=\"sk-toggleable__content\"><pre>XGBClassifier(base_score=None, booster=None, callbacks=None,\n",
       "              colsample_bylevel=None, colsample_bynode=None,\n",
       "              colsample_bytree=None, early_stopping_rounds=None,\n",
       "              enable_categorical=False, eval_metric=&#x27;logloss&#x27;,\n",
       "              feature_types=None, gamma=None, gpu_id=None, grow_policy=None,\n",
       "              importance_type=None, interaction_constraints=None,\n",
       "              learning_rate=None, max_bin=None, max_cat_threshold=None,\n",
       "              max_cat_to_onehot=None, max_delta_step=None, max_depth=5,\n",
       "              max_leaves=None, min_child_weight=None, missing=nan,\n",
       "              monotone_constraints=None, n_estimators=100, n_jobs=-1,\n",
       "              num_parallel_tree=None, predictor=None, random_state=None, ...)</pre></div></div></div></div></div>"
      ],
      "text/plain": [
       "XGBClassifier(base_score=None, booster=None, callbacks=None,\n",
       "              colsample_bylevel=None, colsample_bynode=None,\n",
       "              colsample_bytree=None, early_stopping_rounds=None,\n",
       "              enable_categorical=False, eval_metric='logloss',\n",
       "              feature_types=None, gamma=None, gpu_id=None, grow_policy=None,\n",
       "              importance_type=None, interaction_constraints=None,\n",
       "              learning_rate=None, max_bin=None, max_cat_threshold=None,\n",
       "              max_cat_to_onehot=None, max_delta_step=None, max_depth=5,\n",
       "              max_leaves=None, min_child_weight=None, missing=nan,\n",
       "              monotone_constraints=None, n_estimators=100, n_jobs=-1,\n",
       "              num_parallel_tree=None, predictor=None, random_state=None, ...)"
      ]
     },
     "execution_count": 97,
     "metadata": {},
     "output_type": "execute_result"
    }
   ],
   "source": [
    "## Como se trata de um problema de classificação, deve-se utilizar o XGBClassifier().\n",
    "xgb_model = xgb.XGBClassifier(max_depth = 5, objective = 'binary:logistic', n_jobs = -1,\n",
    "                             use_label_encoder = False, eval_metric = 'logloss')\n",
    "xgb_model.fit(X_train, y_train, eval_set = [(X_test, y_test)])"
   ]
  },
  {
   "cell_type": "code",
   "execution_count": 107,
   "id": "346ef9f5",
   "metadata": {},
   "outputs": [
    {
     "data": {
      "text/plain": [
       "1.0"
      ]
     },
     "execution_count": 107,
     "metadata": {},
     "output_type": "execute_result"
    }
   ],
   "source": [
    "round(xgb_model.score(X_train, y_train), 2)"
   ]
  },
  {
   "cell_type": "code",
   "execution_count": 108,
   "id": "f987a9b4",
   "metadata": {},
   "outputs": [
    {
     "data": {
      "text/plain": [
       "0.91"
      ]
     },
     "execution_count": 108,
     "metadata": {},
     "output_type": "execute_result"
    }
   ],
   "source": [
    "round(xgb_model.score(X_test[X_train.columns], y_test), 2)"
   ]
  },
  {
   "cell_type": "markdown",
   "id": "087fe4bc",
   "metadata": {},
   "source": [
    "The accuracy of XGBoost is 100% for our train set and 91% for the test set. The first one indicates that the model overfit with the dataset, maybe because of the nature of the algorithm, the lack of inputs to the multiple decision trees generated could create this overfit result.\n",
    "\n",
    "Eventhoug the 91% of accuracy in the test set, when we check the confusion matrix we can notice that the model is less precise for churn customers than or logistic regression model, the model apperantly is more precise to just confirm that a customer will not convert to churn."
   ]
  },
  {
   "cell_type": "code",
   "execution_count": 100,
   "id": "c73fd43a",
   "metadata": {},
   "outputs": [
    {
     "data": {
      "image/png": "[encoded data removed]",
      "text/plain": [
       "<Figure size 640x480 with 2 Axes>"
      ]
     },
     "metadata": {},
     "output_type": "display_data"
    }
   ],
   "source": [
    "## Confusion Matrix\n",
    "y_pred = xgb_model.predict(X_test)\n",
    "cnf_matrix = metrics.confusion_matrix(y_test, y_pred)\n",
    "sns.heatmap(pd.DataFrame(cnf_matrix), annot = True, cmap = \"crest\", fmt = 'g');"
   ]
  },
  {
   "cell_type": "code",
   "execution_count": 101,
   "id": "b5a7913b",
   "metadata": {},
   "outputs": [
    {
     "data": {
      "image/png": "[encoded data removed]",
      "text/plain": [
       "<Figure size 640x480 with 1 Axes>"
      ]
     },
     "metadata": {},
     "output_type": "display_data"
    }
   ],
   "source": [
    "from xgboost import plot_importance\n",
    "plot_importance(xgb_model);"
   ]
  },
  {
   "cell_type": "code",
   "execution_count": 102,
   "id": "1f6cc6ab",
   "metadata": {},
   "outputs": [
    {
     "name": "stderr",
     "output_type": "stream",
     "text": [
      "ntree_limit is deprecated, use `iteration_range` or model slicing instead.\n",
      "No data for colormapping provided via 'c'. Parameters 'vmin', 'vmax' will be ignored\n"
     ]
    },
    {
     "data": {
      "image/png": "[encoded data removed]",
      "text/plain": [
       "<Figure size 800x350 with 2 Axes>"
      ]
     },
     "metadata": {},
     "output_type": "display_data"
    }
   ],
   "source": [
    "import shap\n",
    "explainer = shap.TreeExplainer(xgb_model)\n",
    "shap_values = explainer.shap_values(X_train)\n",
    "shap_obj = explainer(X_train)\n",
    "shap.plots.beeswarm(shap_obj)"
   ]
  },
  {
   "cell_type": "markdown",
   "id": "c6b9909f",
   "metadata": {},
   "source": [
    "### Conclusions\n",
    "\n",
    "Together with the exploratory analysis of the data, the results of the models guide a possible profile for customers that could churn in time. This information could be used to improve the marketing or sales strategy to retain clients.\n",
    "\n",
    "On one side, the logistic regression is more precise to predict the customers that are more likely to churn and the XGBoost apparently is more accurate to predict customers that will not cancel a contract.\n",
    "\n",
    "Despite the model's performances, some points could be highlighted. The logistic regression model is more likely to use the information that is more abundant in the datasets, which is, the information about the orders behaviour of the customer. Different kinds of combinations using these data could be performed in order to tune the model, with the benefit that is a model that is easy to understand and interpret.\n",
    "\n",
    "It is noteworthy that the development of the predictive solution is a process of continuous testing. Nothing prevents the results of the models from being used together, each in its own scope. In addition, it is possible that the presented models are improved through the adjustment parameters. Therefore, the predictive capacity can still increase in both cases.\n",
    "\n",
    "Another possible highlight in the analyses is the importance that just a few set of variables has in the variable response. Such as:\n",
    "- **group_code & segment_code:** \n",
    " \n",
    "The majority of the data for both possible classifications (`is_churn`=[1,0]) are concentrated in the customer group and segment equal to 0. This information could be used as a business strategy to maybe expand the groups and segments that the company sell.\n",
    "\n",
    "- **sales_channel:** \n",
    "\n",
    "The sales_channel variable is another variable that is concentrated when we look at the response of the customer be a churn or not. Maybe the business could look more carefully at these channels and understand why they have this kind of response from the customer."
   ]
  },
  {
   "cell_type": "code",
   "execution_count": null,
   "id": "3df12c18",
   "metadata": {},
   "outputs": [],
   "source": []
  }
 ],
 "metadata": {
  "kernelspec": {
   "display_name": "Python 3 (ipykernel)",
   "language": "python",
   "name": "python3"
  },
  "language_info": {
   "codemirror_mode": {
    "name": "ipython",
    "version": 3
   },
   "file_extension": ".py",
   "mimetype": "text/x-python",
   "name": "python",
   "nbconvert_exporter": "python",
   "pygments_lexer": "ipython3",
   "version": "3.10.11"
  }
 },
 "nbformat": 4,
 "nbformat_minor": 5
}
